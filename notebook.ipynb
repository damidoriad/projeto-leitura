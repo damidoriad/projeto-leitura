{
 "cells": [
  {
   "cell_type": "markdown",
   "metadata": {},
   "source": [
    "# Imports e definições"
   ]
  },
  {
   "cell_type": "code",
   "execution_count": 297,
   "metadata": {},
   "outputs": [],
   "source": [
    "import plotly.express as px\n",
    "import plotly.graph_objects as go\n",
    "import numpy as np\n",
    "import pandas as pd\n",
    "from scipy import signal\n",
    "from scipy.io import wavfile\n",
    "import os"
   ]
  },
  {
   "cell_type": "code",
   "execution_count": 95,
   "metadata": {},
   "outputs": [],
   "source": [
    "def meuLPC(s,fa):\n",
    "\tJanela = int(round(0.03*fa))\n",
    "\tAvanco = int(round(0.01*fa))\n",
    "\tOrdem = int(round(0.001*fa))\n",
    "\tmarcas = np.arange(0, s.shape[0]-Janela-1, Avanco)\n",
    "\tCP = np.zeros((Ordem, len(marcas)))\n",
    "\tPot = np.zeros(len(marcas))\t\n",
    "\tTCZ = np.zeros(len(marcas))\n",
    "\tS = np.zeros((Janela-Ordem-1, Ordem+1))\n",
    "\tcont = 0\n",
    "\tfor k in marcas:\n",
    "\t\tsaux = s[k:k+Janela]\n",
    "\t\tPot[cont] = np.sum(saux**2)/Janela\n",
    "\t\tpz = np.logical_and(saux[1:] > 0, saux[:-1] < 0)\n",
    "\t\tTCZ[cont] = np.sum(pz)*fa/Janela\n",
    "\t\tfor m in range(Ordem+1):\n",
    "\t\t\tS[:,m] = saux[m:-(Ordem+1-m)]\n",
    "\t\tC = np.linalg.pinv(S[:,:-1]).dot(S[:,-1])\n",
    "\t\tCP[:,cont] = C\n",
    "\t\tcont = cont +1\n",
    "\treturn CP, Pot, TCZ"
   ]
  },
  {
   "cell_type": "code",
   "execution_count": 129,
   "metadata": {},
   "outputs": [],
   "source": [
    "def specLPC(CP):\n",
    "    w = np.arange(5000/fa*np.pi, 150/fa*np.pi, -50/fa*np.pi)\n",
    "    P = np.zeros(len(w), CP.shape[1])\n",
    "    for k in range(CP.shape[1]):\n",
    "        h = [1 -np.flipud(CP[:,k])]\n",
    "        for i in range(len(w)):\n",
    "            P[i,k] = abs(1/np.sum(np.exp(-1j*w[i]*np.arange(len(h)))*h))\n",
    "        # P[:,k] = P[:,k]/np.sum(P[:,k])\n",
    "    # P = P/np.max(P)\n",
    "    for k in range(len(w)):\n",
    "        P[k,:] = P[k,:]/np.max(P[k,:])\n",
    "    return P"
   ]
  },
  {
   "cell_type": "code",
   "execution_count": 198,
   "metadata": {},
   "outputs": [],
   "source": [
    "def espectrograma(x, fa):\n",
    "\tp = np.arange(np.log2(80), np.log2(fa/2), 4/24)\n",
    "\tf = (2*np.ones(len(p)))**p\n",
    "\tJanela = int(np.round(0.025*fa))\n",
    "\tblackman = np.blackman(Janela)\n",
    "\tB = np.zeros((len(f), Janela), dtype=complex)\n",
    "\tt = np.arange(Janela)/fa\n",
    "\tfor k in range(len(f)):\n",
    "\t\tB[k,:] = np.exp(1j*2*np.pi*f[k]*t)*blackman\n",
    "\tavanco = int(np.round(Janela/4))\n",
    "\tmarcas = np.arange(0, len(x)-Janela, avanco)\n",
    "\tM = len(marcas)\n",
    "\tS = np.zeros((len(f), M))\n",
    "\tcont = 0\n",
    "\tfor n in marcas:\n",
    "\t\tS[:,cont] = abs(B.dot(x[n:n+Janela]))\n",
    "\t\tcont += 1\n",
    "\tfor canal in range(len(f)):\n",
    "\t\tS[canal,:] = S[canal,:] - np.min(S[canal,:]) + 1e-6\n",
    "\t\tS[canal,:] = (1/np.max(S))*S[canal,:]\n",
    "\treturn S"
   ]
  },
  {
   "cell_type": "code",
   "execution_count": 250,
   "metadata": {},
   "outputs": [],
   "source": [
    "n = S.shape[0]\n",
    "q = np.zeros(n, dtype=str)\n",
    "frase = np.empty(S.shape[1], dtype='<U'+str(n))\n",
    "for col in range(S.shape[1]):\t\t\n",
    "    pp = np.nonzero(S[:,col] > 0.5)[0]\n",
    "    q[pp] = \"a\"\n",
    "    pp = np.nonzero(np.logical_and(S[:,col] > 0.25, S[:,col] <= 0.5))[0]\n",
    "    q[pp] = \"b\"\n",
    "    pp = np.nonzero(np.logical_and(S[:,col] > 0.125, S[:,col] <= 0.25))[0]\n",
    "    q[pp] = \"c\"\n",
    "    pp = np.nonzero(S[:,col] <= 0.125)[0]\n",
    "    q[pp] = \"d\"\n",
    "    palavra = \"\"\n",
    "    for k in range(len(q)):\n",
    "        palavra = palavra+q[k]\n",
    "    frase[col] = palavra"
   ]
  },
  {
   "cell_type": "code",
   "execution_count": 252,
   "metadata": {},
   "outputs": [],
   "source": [
    "def geraFrases(S):\n",
    "\tn = S.shape[0]\n",
    "\tq = np.zeros(n, dtype=str)\n",
    "\tfrase = np.empty(S.shape[1], dtype='<U'+str(n))\n",
    "\tfor col in range(S.shape[1]):\t\t\n",
    "\t\tpp = np.nonzero(S[:,col] > 0.5)[0]\n",
    "\t\tq[pp] = \"a\"\n",
    "\t\tpp = np.nonzero(np.logical_and(S[:,col] > 0.25, S[:,col] <= 0.5))[0]\n",
    "\t\tq[pp] = \"b\"\n",
    "\t\tpp = np.nonzero(np.logical_and(S[:,col] > 0.125, S[:,col] <= 0.25))[0]\n",
    "\t\tq[pp] = \"c\"\n",
    "\t\tpp = np.nonzero(S[:,col] <= 0.125)[0]\n",
    "\t\tq[pp] = \"d\"\n",
    "\t\tpalavra = \"\"\n",
    "\t\tfor k in range(len(q)):\n",
    "\t\t\tpalavra = palavra+q[k]\n",
    "\t\tfrase[col] = palavra\n",
    "\treturn frase"
   ]
  },
  {
   "cell_type": "code",
   "execution_count": 293,
   "metadata": {},
   "outputs": [],
   "source": [
    "def lempelziv76(s):\n",
    "\tK = len(np.unique(s))\n",
    "\tN = len(s)\n",
    "\tL = 1\n",
    "\tdic = [s[0]]\n",
    "\tp = 1\n",
    "\tL = L+1\n",
    "\twhile p+L < N:\n",
    "\t\tpos = ''.join(s[:p+L-1]).find(''.join(s[p:p+L]))\n",
    "\t\tif pos == -1:\n",
    "\t\t\tdic.append(''.join(s[p:p+L]))\n",
    "\t\t\tp = p+L\n",
    "\t\t\tL = 1\n",
    "\t\telse:\n",
    "\t\t\tL = L+1\n",
    "\tdic.append(''.join(s[p:]))\n",
    "\t# Complexidade de Lempel-Ziv, em bits por símbolo:\n",
    "\t#cLZ = length(dic)/C\n",
    "\tcLZ = len(dic)*(np.log2(len(dic))+1)/N\n",
    "\treturn dic, cLZ"
   ]
  },
  {
   "cell_type": "markdown",
   "metadata": {},
   "source": [
    "# Carregando dados"
   ]
  },
  {
   "cell_type": "code",
   "execution_count": 15,
   "metadata": {},
   "outputs": [
    {
     "name": "stdout",
     "output_type": "stream",
     "text": [
      "48000 55.14\n",
      "48000 60.0\n",
      "48000 59.7\n"
     ]
    }
   ],
   "source": [
    "path = 'C:\\\\Meu Drive\\\\Doutorado Unicamp\\\\Projeto\\\\github\\\\projeto-leitura\\\\Audios\\\\Fluente\\\\1 - Fluente.wav'\n",
    "fs, s1 = wavfile.read(path)\n",
    "print(fs, s1.shape[0]/fs)\n",
    "path = 'C:\\\\Meu Drive\\\\Doutorado Unicamp\\\\Projeto\\\\github\\\\projeto-leitura\\\\Audios\\\\Silabou\\\\1-Silabou.wav'\n",
    "fs, s2 = wavfile.read(path)\n",
    "print(fs, s2.shape[0]/fs)\n",
    "path = 'C:\\\\Meu Drive\\\\Doutorado Unicamp\\\\Projeto\\\\github\\\\projeto-leitura\\\\Audios\\\\Soletrou\\\\1 - Soletrou.wav'\n",
    "fs, s3 = wavfile.read(path)\n",
    "print(fs, s3.shape[0]/fs)\n",
    "\n",
    "fa = 16000\n",
    "s1 = signal.resample(s1, int(s1.shape[0]*fa/fs))\n",
    "s2 = signal.resample(s2, int(s2.shape[0]*fa/fs))\n",
    "s3 = signal.resample(s3, int(s3.shape[0]*fa/fs))"
   ]
  },
  {
   "cell_type": "code",
   "execution_count": 294,
   "metadata": {},
   "outputs": [
    {
     "name": "stdout",
     "output_type": "stream",
     "text": [
      "4.75425255670369\n"
     ]
    }
   ],
   "source": [
    "P = espectrograma(s1, fa)\n",
    "frase = geraFrases(P)\n",
    "dic, c = lempelziv76(frase)\n",
    "print(c)"
   ]
  },
  {
   "cell_type": "code",
   "execution_count": 295,
   "metadata": {},
   "outputs": [
    {
     "name": "stdout",
     "output_type": "stream",
     "text": [
      "3.161218904228805\n"
     ]
    }
   ],
   "source": [
    "P = espectrograma(s2, fa)\n",
    "frase = geraFrases(P)\n",
    "dic, c = lempelziv76(frase)\n",
    "print(c)"
   ]
  },
  {
   "cell_type": "code",
   "execution_count": 296,
   "metadata": {},
   "outputs": [
    {
     "name": "stdout",
     "output_type": "stream",
     "text": [
      "2.4517375430872232\n"
     ]
    }
   ],
   "source": [
    "P = espectrograma(s3, fa)\n",
    "frase = geraFrases(P)\n",
    "dic, c = lempelziv76(frase)\n",
    "print(c)"
   ]
  },
  {
   "cell_type": "code",
   "execution_count": 301,
   "metadata": {},
   "outputs": [
    {
     "name": "stdout",
     "output_type": "stream",
     "text": [
      "[4.75425255670369, 4.906803891982043, 3.006616321680851, 4.185558759933058, 3.370511138175557, 3.6664325621267695, 3.9543777017535544]\n"
     ]
    }
   ],
   "source": [
    "path = 'C:\\\\Meu Drive\\\\Doutorado Unicamp\\\\Projeto\\\\github\\\\projeto-leitura\\\\Audios\\\\Fluente'\n",
    "files = os.listdir(path)\n",
    "vals = []\n",
    "for file in files:\n",
    "    fs, s = wavfile.read(path+'\\\\'+file)\n",
    "    fa = 16000\n",
    "    s = signal.resample(s, int(s.shape[0]*fa/fs))\n",
    "    P = espectrograma(s, fa)\n",
    "    frase = geraFrases(P)\n",
    "    dic, c = lempelziv76(frase)\n",
    "    vals.append(c)\n",
    "print(vals)"
   ]
  },
  {
   "cell_type": "code",
   "execution_count": 302,
   "metadata": {},
   "outputs": [
    {
     "name": "stdout",
     "output_type": "stream",
     "text": [
      "[3.161218904228805, 1.7231486464807513, 2.5470621435083296, 2.027551999772481, 3.1069552046587345, 1.5808831387832014, 1.769033966887016]\n"
     ]
    }
   ],
   "source": [
    "path = 'C:\\\\Meu Drive\\\\Doutorado Unicamp\\\\Projeto\\\\github\\\\projeto-leitura\\\\Audios\\\\Silabou'\n",
    "files = os.listdir(path)\n",
    "vals = []\n",
    "for file in files:\n",
    "    fs, s = wavfile.read(path+'\\\\'+file)\n",
    "    fa = 16000\n",
    "    s = signal.resample(s, int(s.shape[0]*fa/fs))\n",
    "    P = espectrograma(s, fa)\n",
    "    frase = geraFrases(P)\n",
    "    dic, c = lempelziv76(frase)\n",
    "    vals.append(c)\n",
    "print(vals)"
   ]
  },
  {
   "cell_type": "code",
   "execution_count": 303,
   "metadata": {},
   "outputs": [
    {
     "name": "stdout",
     "output_type": "stream",
     "text": [
      "[2.4517375430872232, 2.075541477965096, 2.2077200635478484, 2.5890963375992273, 2.342405615366654, 2.230418150758207, 2.6522767622695422]\n"
     ]
    }
   ],
   "source": [
    "path = 'C:\\\\Meu Drive\\\\Doutorado Unicamp\\\\Projeto\\\\github\\\\projeto-leitura\\\\Audios\\\\Soletrou'\n",
    "files = os.listdir(path)\n",
    "vals = []\n",
    "for file in files:\n",
    "    fs, s = wavfile.read(path+'\\\\'+file)\n",
    "    fa = 16000\n",
    "    s = signal.resample(s, int(s.shape[0]*fa/fs))\n",
    "    P = espectrograma(s, fa)\n",
    "    frase = geraFrases(P)\n",
    "    dic, c = lempelziv76(frase)\n",
    "    vals.append(c)\n",
    "print(vals)"
   ]
  },
  {
   "cell_type": "code",
   "execution_count": null,
   "metadata": {},
   "outputs": [],
   "source": []
  }
 ],
 "metadata": {
  "kernelspec": {
   "display_name": "base",
   "language": "python",
   "name": "python3"
  },
  "language_info": {
   "codemirror_mode": {
    "name": "ipython",
    "version": 3
   },
   "file_extension": ".py",
   "mimetype": "text/x-python",
   "name": "python",
   "nbconvert_exporter": "python",
   "pygments_lexer": "ipython3",
   "version": "3.11.5"
  }
 },
 "nbformat": 4,
 "nbformat_minor": 2
}
