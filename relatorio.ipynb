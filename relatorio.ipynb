{
 "cells": [
  {
   "cell_type": "markdown",
   "metadata": {},
   "source": [
    "# Imports e definições"
   ]
  },
  {
   "cell_type": "code",
   "execution_count": 1,
   "metadata": {},
   "outputs": [],
   "source": [
    "import plotly.express as px\n",
    "import plotly.graph_objects as go\n",
    "# from sklearn.model_selection import train_test_split\n",
    "# from tqdm import tqdm\n",
    "# from torch.utils.data import Dataset, DataLoader\n",
    "# import torch.optim as optim\n",
    "# from torcheval.metrics.functional import multiclass_f1_score\n",
    "# from torcheval.metrics.functional import binary_accuracy\n",
    "# from torchinfo import summary"
   ]
  },
  {
   "cell_type": "code",
   "execution_count": 2,
   "metadata": {},
   "outputs": [],
   "source": [
    "import numpy as np\n",
    "import pandas as pd\n",
    "from scipy import signal\n",
    "from scipy.io import wavfile\n",
    "from scipy.signal import find_peaks, peak_widths\n",
    "import os\n",
    "import pickle\n",
    "import random\n",
    "import torch\n",
    "from torch import nn"
   ]
  },
  {
   "cell_type": "code",
   "execution_count": 3,
   "metadata": {},
   "outputs": [],
   "source": [
    "device = (\n",
    "    \"cuda\"\n",
    "    if torch.cuda.is_available()\n",
    "    else \"mps\"\n",
    "    if torch.backends.mps.is_available()\n",
    "    else \"cpu\"\n",
    ")\n",
    "# print(f\"Using {device} device\")"
   ]
  },
  {
   "cell_type": "code",
   "execution_count": 4,
   "metadata": {},
   "outputs": [],
   "source": [
    "def LPC3janelas(s, fa):\n",
    "    N = s.shape[0]\n",
    "    if (N >= int(np.round(0.02*fa))) & (N <= int(np.round(0.2*fa))):\n",
    "        Janela = int(np.round(N/3))\n",
    "        marcas = [0, int(np.round((N-Janela)/2))-1, N-Janela]\n",
    "        Ordem = int(np.round(0.003*fa))\n",
    "        CP = np.zeros((Ordem,3))\n",
    "        S = np.zeros((Janela-Ordem-1,Ordem+1))\n",
    "        cont = 0\n",
    "        for k in marcas:\n",
    "            saux = s[k:k+Janela]\n",
    "            for m in range(Ordem+1):\n",
    "                S[:,m] = saux[m:m-Ordem-1]\n",
    "            C = np.linalg.pinv(S[:,:-1]).dot(S[:,-1])\n",
    "            CP[:,cont] = C\n",
    "            cont += 1\n",
    "        return CP\n",
    "    else:\n",
    "        return []"
   ]
  },
  {
   "cell_type": "code",
   "execution_count": 5,
   "metadata": {},
   "outputs": [],
   "source": [
    "def CP2vec(CP, fa):\n",
    "    w = np.arange(5000/fa*np.pi, 50/fa*np.pi, -100/fa*np.pi)\n",
    "    P = np.zeros((len(w), CP.shape[1]))\n",
    "    for k in range(CP.shape[1]):\n",
    "        h = np.hstack((1, -np.flipud(CP[:,k])))\n",
    "        for i in range(len(w)):\n",
    "            P[i,k] = abs(1/np.sum(np.exp(-1j*w[i]*np.arange(len(h)))*h))\n",
    "    P = np.log10(P/P.max() + 0.01) + 2\n",
    "    P = P.flatten(order='F')/np.sqrt(np.sum(P.flatten()**2))\n",
    "    return P"
   ]
  },
  {
   "cell_type": "code",
   "execution_count": 6,
   "metadata": {},
   "outputs": [],
   "source": [
    "def lempelziv76(s):\n",
    "\tK = len(np.unique(s))\n",
    "\tN = len(s)\n",
    "\tL = 1\n",
    "\tdic = [s[0]]\n",
    "\tp = 1\n",
    "\tL = L+1\n",
    "\twhile p+L < N:\n",
    "\t\tpos = ''.join(s[:p+L-1]).find(''.join(s[p:p+L]))\n",
    "\t\tif pos == -1:\n",
    "\t\t\tdic.append(''.join(s[p:p+L]))\n",
    "\t\t\tp = p+L\n",
    "\t\t\tL = 1\n",
    "\t\telse:\n",
    "\t\t\tL = L+1\n",
    "\tdic.append(''.join(s[p:]))\n",
    "\t# Complexidade de Lempel-Ziv, em bits por símbolo:\n",
    "\t#cLZ = length(dic)/C\n",
    "\tcLZ = len(dic)*(np.log2(len(dic))+1)/N\n",
    "\treturn dic, cLZ"
   ]
  },
  {
   "cell_type": "code",
   "execution_count": 7,
   "metadata": {},
   "outputs": [],
   "source": [
    "def perfEner(s, fa):\n",
    "    N = s.shape[0]\n",
    "    janela = np.round(0.1*fa).astype(int)\n",
    "    passo = np.round(0.03*fa).astype(int)\n",
    "    N2 = (N-janela)//passo\n",
    "    E = np.zeros(N2)\n",
    "    for i in range(N2):\n",
    "        saux = s[i*passo:i*passo+janela]\n",
    "        E[i] = (saux**2).sum()\n",
    "    return E"
   ]
  },
  {
   "cell_type": "code",
   "execution_count": 8,
   "metadata": {},
   "outputs": [],
   "source": [
    "def segmenta(E, pfala):\n",
    "    segs = np.empty((2,0), dtype=int)\n",
    "    qp = np.zeros(pfala.shape[1])\n",
    "    for i in range(pfala.shape[1]):\n",
    "        aux = E[pfala[0,i]:pfala[1,i]]\n",
    "        peaks, _ = find_peaks(aux, distance=4)\n",
    "        if peaks.size == 0: continue\n",
    "        proe = signal.peak_prominences(aux/max(aux), peaks)[0]\n",
    "        if np.any(proe/max(proe)<0.01): peaks = peaks[proe>0.01]\n",
    "        _, _, ini, fim = peak_widths(aux, peaks, rel_height=0.7)\n",
    "        ini = np.round(ini).astype(int)\n",
    "        fim = np.round(fim).astype(int)\n",
    "        # if np.any((fim-ini)<4):\n",
    "        #     peaks = peaks[(fim-ini)>3]\n",
    "        #     _, _, ini, fim = peak_widths(aux, peaks, rel_height=0.7)\n",
    "        #     ini = np.round(ini).astype(int)\n",
    "        #     fim = np.round(fim).astype(int)\n",
    "        # inds = np.nonzero(fim[:-1]>ini[1:])[0]\n",
    "        # fim[inds] = ini[inds+1]\n",
    "        qp[i] = len(peaks)\n",
    "        segs = np.hstack((segs, np.stack((ini,fim)) + pfala[0,i]))\n",
    "    return segs, qp"
   ]
  },
  {
   "cell_type": "code",
   "execution_count": 9,
   "metadata": {},
   "outputs": [],
   "source": [
    "def wav2ener2fon2(s, fa):\n",
    "    E = perfEner(s, fa)\n",
    "    pz = np.logical_and(E[1:] > E.max()/100, E[:-1] < E.max()/100)\n",
    "    nz = np.logical_and(E[1:] < E.max()/100, E[:-1] > E.max()/100)\n",
    "    pz = np.nonzero(pz)[0]\n",
    "    nz = np.nonzero(nz)[0] + 1\n",
    "    if nz[0]<=pz[0]: nz = nz[1:]\n",
    "    if nz[-1]<=pz[-1]: pz = pz[:-1]\n",
    "    pfala = np.stack((pz,nz))\n",
    "    segs, _ = segmenta(E, pfala)\n",
    "    P2 = np.zeros((segs.shape[1], 150))\n",
    "    for i in range(segs.shape[1]):\n",
    "        na = np.round(segs[0,i]*fa*0.03).astype(int)\n",
    "        N = np.round((segs[1,i]-segs[0,i])*fa*0.03).astype(int)\n",
    "        janela = int(np.round(N/3))\n",
    "        marcas = [0, int(np.round((N-janela)/2))-1, N-janela]\n",
    "        Ordem = int(np.round(0.003*fa))\n",
    "        CP = np.zeros((Ordem,3))\n",
    "        S = np.zeros((janela-Ordem-1,Ordem+1))\n",
    "        cont = 0\n",
    "        for k in marcas:\n",
    "            saux = s[na+k:na+k+janela]\n",
    "            for m in range(Ordem+1):\n",
    "                S[:,m] = saux[m:m-Ordem-1]\n",
    "            C = np.linalg.pinv(S[:,:-1]).dot(S[:,-1])\n",
    "            CP[:,cont] = C\n",
    "            cont += 1\n",
    "        P2[i,] = CP2vec(CP, fa).transpose()\n",
    "    x1 = torch.tensor(P2, dtype=torch.float32, device=device).detach()\n",
    "    yp = model(x1)\n",
    "    inds = yp.argmax(dim=1).cpu().detach().numpy()\n",
    "    aux = F0.values[inds].flatten()\n",
    "    fonemas = np.zeros(E.shape[0], dtype=np.str_)\n",
    "    fonemas[:] = '0'\n",
    "    for i in range(segs.shape[1]):\n",
    "        fonemas[segs[0,i]:segs[1,i]] = aux[i]\n",
    "    return fonemas"
   ]
  },
  {
   "cell_type": "code",
   "execution_count": 49,
   "metadata": {},
   "outputs": [],
   "source": [
    "def filtrarSilencios(s, fa):\n",
    "    E = perfEner(s, fa)\n",
    "    passo = np.round(0.03*fa).astype(int)\n",
    "    pz = np.logical_and(E[1:] > E.max()/100, E[:-1] < E.max()/100)\n",
    "    nz = np.logical_and(E[1:] < E.max()/100, E[:-1] > E.max()/100)\n",
    "    pz = np.nonzero(pz)[0]\n",
    "    nz = np.nonzero(nz)[0] + 1\n",
    "    if nz[0]<=pz[0]: nz = nz[1:]\n",
    "    if nz[-1]<=pz[-1]: pz = pz[:-1]\n",
    "    fmed = (nz-pz).mean()\n",
    "    pausas = pz[1:] - nz[:-1]\n",
    "    flags = np.ones(len(s), dtype=bool)\n",
    "    for i in np.nonzero(pausas>fmed*2)[0]:\n",
    "        ini = (nz[i]+2*int(fmed))*passo\n",
    "        fin = int(pz[i+1])*passo\n",
    "        flags[ini:fin] = False\n",
    "    s = s[flags]\n",
    "    return s"
   ]
  },
  {
   "cell_type": "code",
   "execution_count": 10,
   "metadata": {},
   "outputs": [],
   "source": [
    "class mlpFon(nn.Module):\n",
    "    def __init__(self, raw_dim, dim1, dim2):\n",
    "        super().__init__()\n",
    "        self.all_layers = torch.nn.Sequential(\n",
    "            # Encoder\n",
    "            nn.Flatten(start_dim=1),\n",
    "            nn.Linear(raw_dim, dim1),\n",
    "            nn.Tanh(),\n",
    "            nn.Linear(dim1, dim2),\n",
    "            nn.Softmax(dim=1)\n",
    "        )\n",
    "\n",
    "    def forward(self, x):\n",
    "        logits = self.all_layers(x)\n",
    "        return logits"
   ]
  },
  {
   "cell_type": "code",
   "execution_count": 50,
   "metadata": {},
   "outputs": [],
   "source": [
    "class mlpLetras(nn.Module):\n",
    "    def __init__(self, raw_dim, dim1, dim2):\n",
    "        super().__init__()\n",
    "        self.all_layers = torch.nn.Sequential(\n",
    "            # Encoder\n",
    "            nn.Flatten(start_dim=1),\n",
    "            nn.Linear(raw_dim, dim1),\n",
    "            nn.Tanh(),\n",
    "            nn.Linear(dim1, dim2),\n",
    "            nn.Sigmoid()\n",
    "        )\n",
    "\n",
    "    def forward(self, x):\n",
    "        logits = self.all_layers(x)\n",
    "        return logits"
   ]
  },
  {
   "cell_type": "code",
   "execution_count": 11,
   "metadata": {},
   "outputs": [
    {
     "data": {
      "text/plain": [
       "mlpFon(\n",
       "  (all_layers): Sequential(\n",
       "    (0): Flatten(start_dim=1, end_dim=-1)\n",
       "    (1): Linear(in_features=150, out_features=150, bias=True)\n",
       "    (2): Tanh()\n",
       "    (3): Linear(in_features=150, out_features=174, bias=True)\n",
       "    (4): Softmax(dim=1)\n",
       "  )\n",
       ")"
      ]
     },
     "execution_count": 11,
     "metadata": {},
     "output_type": "execute_result"
    }
   ],
   "source": [
    "raw_dim = 150\n",
    "dim1 = 150\n",
    "dim2 = 174\n",
    "modelFon = mlpFon(raw_dim, dim1, dim2).to(device)\n",
    "modelFon.load_state_dict(torch.load('modeloMSE.pht'))\n",
    "modelFon.eval()"
   ]
  },
  {
   "cell_type": "code",
   "execution_count": 51,
   "metadata": {},
   "outputs": [
    {
     "data": {
      "text/plain": [
       "mlpLetras(\n",
       "  (all_layers): Sequential(\n",
       "    (0): Flatten(start_dim=1, end_dim=-1)\n",
       "    (1): Linear(in_features=150, out_features=30, bias=True)\n",
       "    (2): Tanh()\n",
       "    (3): Linear(in_features=30, out_features=1, bias=True)\n",
       "    (4): Sigmoid()\n",
       "  )\n",
       ")"
      ]
     },
     "execution_count": 51,
     "metadata": {},
     "output_type": "execute_result"
    }
   ],
   "source": [
    "raw_dim = 150\n",
    "dim1 = 30\n",
    "dim2 = 1\n",
    "modelLet = mlpLetras(raw_dim, dim1, dim2).to(device)\n",
    "modelLet.load_state_dict(torch.load('modeloLETRAS.pht'))\n",
    "modelLet.eval()"
   ]
  },
  {
   "cell_type": "code",
   "execution_count": 12,
   "metadata": {},
   "outputs": [],
   "source": [
    "with open('files.pkl', 'rb') as f:\n",
    "    B, F = pickle.load(f)"
   ]
  },
  {
   "cell_type": "code",
   "execution_count": 13,
   "metadata": {},
   "outputs": [],
   "source": [
    "with open('vects.pkl', 'rb') as f:\n",
    "    vects, rotul = pickle.load(f)"
   ]
  },
  {
   "cell_type": "markdown",
   "metadata": {},
   "source": [
    "# Linha de produção"
   ]
  },
  {
   "cell_type": "code",
   "execution_count": 14,
   "metadata": {},
   "outputs": [
    {
     "name": "stdout",
     "output_type": "stream",
     "text": [
      "48000 55.14\n",
      "48000 60.0\n",
      "48000 59.7\n"
     ]
    }
   ],
   "source": [
    "path = 'C:\\\\Meu Drive\\\\Doutorado Unicamp\\\\Projeto\\\\github\\\\projeto-leitura\\\\Audios\\\\Fluente\\\\1 - Fluente.wav'\n",
    "fs, s1 = wavfile.read(path)\n",
    "print(fs, s1.shape[0]/fs)\n",
    "path = 'C:\\\\Meu Drive\\\\Doutorado Unicamp\\\\Projeto\\\\github\\\\projeto-leitura\\\\Audios\\\\Silabou\\\\1-Silabou.wav'\n",
    "fs, s2 = wavfile.read(path)\n",
    "print(fs, s2.shape[0]/fs)\n",
    "path = 'C:\\\\Meu Drive\\\\Doutorado Unicamp\\\\Projeto\\\\github\\\\projeto-leitura\\\\Audios\\\\Soletrou\\\\1 - Soletrou.wav'\n",
    "fs, s3 = wavfile.read(path)\n",
    "print(fs, s3.shape[0]/fs)\n",
    "\n",
    "fa = 16000\n",
    "s1 = signal.resample(s1, int(s1.shape[0]*fa/fs))\n",
    "s2 = signal.resample(s2, int(s2.shape[0]*fa/fs))\n",
    "s3 = signal.resample(s3, int(s3.shape[0]*fa/fs))"
   ]
  },
  {
   "cell_type": "code",
   "execution_count": 46,
   "metadata": {},
   "outputs": [],
   "source": [
    "s = filtrarSilencios(s3, fa)"
   ]
  },
  {
   "cell_type": "code",
   "execution_count": null,
   "metadata": {},
   "outputs": [],
   "source": []
  }
 ],
 "metadata": {
  "kernelspec": {
   "display_name": "base",
   "language": "python",
   "name": "python3"
  },
  "language_info": {
   "codemirror_mode": {
    "name": "ipython",
    "version": 3
   },
   "file_extension": ".py",
   "mimetype": "text/x-python",
   "name": "python",
   "nbconvert_exporter": "python",
   "pygments_lexer": "ipython3",
   "version": "3.12.4"
  }
 },
 "nbformat": 4,
 "nbformat_minor": 2
}
