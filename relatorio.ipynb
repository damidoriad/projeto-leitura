{
 "cells": [
  {
   "cell_type": "markdown",
   "metadata": {},
   "source": [
    "# Imports e definições"
   ]
  },
  {
   "cell_type": "code",
   "execution_count": 1,
   "metadata": {},
   "outputs": [],
   "source": [
    "import plotly.express as px\n",
    "import plotly.graph_objects as go\n",
    "# from sklearn.model_selection import train_test_split\n",
    "from tqdm import tqdm\n",
    "# from torch.utils.data import Dataset, DataLoader\n",
    "# import torch.optim as optim\n",
    "# from torcheval.metrics.functional import multiclass_f1_score\n",
    "# from torcheval.metrics.functional import binary_accuracy\n",
    "# from torchinfo import summary\n",
    "import torch\n",
    "from torch import nn"
   ]
  },
  {
   "cell_type": "code",
   "execution_count": 2,
   "metadata": {},
   "outputs": [],
   "source": [
    "import numpy as np\n",
    "import pandas as pd\n",
    "from scipy import signal\n",
    "from scipy.io import wavfile\n",
    "from scipy.signal import find_peaks, peak_widths\n",
    "from scipy.special import softmax\n",
    "import os\n",
    "import pickle"
   ]
  },
  {
   "cell_type": "code",
   "execution_count": 3,
   "metadata": {},
   "outputs": [],
   "source": [
    "def sigmoid(z):\n",
    "    return 1/(1 + np.exp(-z))"
   ]
  },
  {
   "cell_type": "code",
   "execution_count": 140,
   "metadata": {},
   "outputs": [],
   "source": [
    "def modelFon(x, W1, b1, W2, b2):\n",
    "    N = x.shape[0]\n",
    "    v1 = np.tanh(W1.dot(x.transpose()) + np.outer(b1, np.ones(N)))\n",
    "    v2 = W2.dot(v1) + np.outer(b2, np.ones(N))\n",
    "    return softmax(v2, axis=0).transpose()"
   ]
  },
  {
   "cell_type": "code",
   "execution_count": 141,
   "metadata": {},
   "outputs": [],
   "source": [
    "def modelLet(x, W1, b1, W2, b2):\n",
    "    N = x.shape[0]\n",
    "    v1 = np.tanh(W1.dot(x.transpose()) + np.outer(b1, np.ones(N)))\n",
    "    return sigmoid(W2.dot(v1) + np.outer(b2, np.ones(N))).flatten()"
   ]
  },
  {
   "cell_type": "code",
   "execution_count": 4,
   "metadata": {},
   "outputs": [],
   "source": [
    "def LPC3janelas(s, fa):\n",
    "    N = s.shape[0]\n",
    "    if (N >= int(np.round(0.02*fa))) & (N <= int(np.round(0.2*fa))):\n",
    "        Janela = int(np.round(N/3))\n",
    "        marcas = [0, int(np.round((N-Janela)/2))-1, N-Janela]\n",
    "        Ordem = int(np.round(0.003*fa))\n",
    "        CP = np.zeros((Ordem,3))\n",
    "        S = np.zeros((Janela-Ordem-1,Ordem+1))\n",
    "        cont = 0\n",
    "        for k in marcas:\n",
    "            saux = s[k:k+Janela]\n",
    "            for m in range(Ordem+1):\n",
    "                S[:,m] = saux[m:m-Ordem-1]\n",
    "            C = np.linalg.pinv(S[:,:-1]).dot(S[:,-1])\n",
    "            CP[:,cont] = C\n",
    "            cont += 1\n",
    "        return CP\n",
    "    else:\n",
    "        return []"
   ]
  },
  {
   "cell_type": "code",
   "execution_count": 5,
   "metadata": {},
   "outputs": [],
   "source": [
    "def CP2vec(CP, fa):\n",
    "    w = np.arange(5000/fa*np.pi, 50/fa*np.pi, -100/fa*np.pi)\n",
    "    P = np.zeros((len(w), CP.shape[1]))\n",
    "    for k in range(CP.shape[1]):\n",
    "        h = np.hstack((1, -np.flipud(CP[:,k])))\n",
    "        for i in range(len(w)):\n",
    "            P[i,k] = abs(1/np.sum(np.exp(-1j*w[i]*np.arange(len(h)))*h))\n",
    "    P = np.log10(P/P.max() + 0.01) + 2\n",
    "    P = P.flatten(order='F')/np.sqrt(np.sum(P.flatten()**2))\n",
    "    return P"
   ]
  },
  {
   "cell_type": "code",
   "execution_count": 6,
   "metadata": {},
   "outputs": [],
   "source": [
    "def lempelziv76(s):\n",
    "\tK = len(np.unique(s))\n",
    "\tN = len(s)\n",
    "\tL = 1\n",
    "\tdic = [s[0]]\n",
    "\tp = 1\n",
    "\tL = L+1\n",
    "\twhile p+L < N:\n",
    "\t\tpos = ''.join(s[:p+L-1]).find(''.join(s[p:p+L]))\n",
    "\t\tif pos == -1:\n",
    "\t\t\tdic.append(''.join(s[p:p+L]))\n",
    "\t\t\tp = p+L\n",
    "\t\t\tL = 1\n",
    "\t\telse:\n",
    "\t\t\tL = L+1\n",
    "\tdic.append(''.join(s[p:]))\n",
    "\t# Complexidade de Lempel-Ziv, em bits por símbolo:\n",
    "\t#cLZ = length(dic)/C\n",
    "\tcLZ = len(dic)*(np.log2(len(dic))+1)/N\n",
    "\treturn dic, cLZ"
   ]
  },
  {
   "cell_type": "code",
   "execution_count": 7,
   "metadata": {},
   "outputs": [],
   "source": [
    "def perfEner(s, fa):\n",
    "    N = s.shape[0]\n",
    "    janela = np.round(0.1*fa).astype(int)\n",
    "    passo = np.round(0.03*fa).astype(int)\n",
    "    N2 = (N-janela)//passo\n",
    "    E = np.zeros(N2)\n",
    "    for i in range(N2):\n",
    "        saux = s[i*passo:i*passo+janela]\n",
    "        E[i] = (saux**2).sum()\n",
    "    return E"
   ]
  },
  {
   "cell_type": "code",
   "execution_count": 8,
   "metadata": {},
   "outputs": [],
   "source": [
    "def segmenta(E, pfala):\n",
    "    segs = np.empty((2,0), dtype=int)\n",
    "    qp = np.zeros(pfala.shape[1])\n",
    "    for i in range(pfala.shape[1]):\n",
    "        aux = E[pfala[0,i]:pfala[1,i]]\n",
    "        peaks, _ = find_peaks(aux, distance=4)\n",
    "        if peaks.size == 0: continue\n",
    "        proe = signal.peak_prominences(aux/max(aux), peaks)[0]\n",
    "        if np.any(proe/max(proe)<0.01): peaks = peaks[proe>0.01]\n",
    "        _, _, ini, fim = peak_widths(aux, peaks, rel_height=0.7)\n",
    "        ini = np.round(ini).astype(int)\n",
    "        fim = np.round(fim).astype(int)\n",
    "        # if np.any((fim-ini)<4):\n",
    "        #     peaks = peaks[(fim-ini)>3]\n",
    "        #     _, _, ini, fim = peak_widths(aux, peaks, rel_height=0.7)\n",
    "        #     ini = np.round(ini).astype(int)\n",
    "        #     fim = np.round(fim).astype(int)\n",
    "        # inds = np.nonzero(fim[:-1]>ini[1:])[0]\n",
    "        # fim[inds] = ini[inds+1]\n",
    "        qp[i] = len(peaks)\n",
    "        segs = np.hstack((segs, np.stack((ini,fim)) + pfala[0,i]))\n",
    "    return segs, qp"
   ]
  },
  {
   "cell_type": "code",
   "execution_count": 149,
   "metadata": {},
   "outputs": [],
   "source": [
    "def wav2ener2fon2(s, fa):\n",
    "    E = perfEner(s, fa)\n",
    "    pz = np.logical_and(E[1:] > E.max()/100, E[:-1] < E.max()/100)\n",
    "    nz = np.logical_and(E[1:] < E.max()/100, E[:-1] > E.max()/100)\n",
    "    pz = np.nonzero(pz)[0]\n",
    "    nz = np.nonzero(nz)[0] + 1\n",
    "    if nz[0]<=pz[0]: nz = nz[1:]\n",
    "    if nz[-1]<=pz[-1]: pz = pz[:-1]\n",
    "    pfala = np.stack((pz,nz))\n",
    "    segs, _ = segmenta(E, pfala)\n",
    "    P2 = np.zeros((segs.shape[1], 150))\n",
    "    for i in range(segs.shape[1]):\n",
    "        na = np.round(segs[0,i]*fa*0.03).astype(int)\n",
    "        N = np.round((segs[1,i]-segs[0,i])*fa*0.03).astype(int)\n",
    "        janela = int(np.round(N/3))\n",
    "        marcas = [0, int(np.round((N-janela)/2))-1, N-janela]\n",
    "        Ordem = int(np.round(0.003*fa))\n",
    "        CP = np.zeros((Ordem,3))\n",
    "        S = np.zeros((janela-Ordem-1,Ordem+1))\n",
    "        cont = 0\n",
    "        for k in marcas:\n",
    "            saux = s[na+k:na+k+janela]\n",
    "            for m in range(Ordem+1):\n",
    "                S[:,m] = saux[m:m-Ordem-1]\n",
    "            C = np.linalg.pinv(S[:,:-1]).dot(S[:,-1])\n",
    "            CP[:,cont] = C\n",
    "            cont += 1\n",
    "        P2[i,] = CP2vec(CP, fa).transpose()\n",
    "    yp = modelFon(P2, Wf1, bf1, Wf2, bf2)\n",
    "    inds = yp.argmax(axis=1)\n",
    "    aux = F0.values[inds].flatten()\n",
    "    fonemas = np.zeros(E.shape[0], dtype=np.str_)\n",
    "    fonemas[:] = '0'\n",
    "    for i in range(segs.shape[1]):\n",
    "        fonemas[segs[0,i]:segs[1,i]] = aux[i]\n",
    "    return fonemas"
   ]
  },
  {
   "cell_type": "code",
   "execution_count": 10,
   "metadata": {},
   "outputs": [],
   "source": [
    "def filtrarSilencios(s, fa):\n",
    "    E = perfEner(s, fa)\n",
    "    passo = np.round(0.03*fa).astype(int)\n",
    "    pz = np.logical_and(E[1:] > E.max()/100, E[:-1] < E.max()/100)\n",
    "    nz = np.logical_and(E[1:] < E.max()/100, E[:-1] > E.max()/100)\n",
    "    pz = np.nonzero(pz)[0]\n",
    "    nz = np.nonzero(nz)[0] + 1\n",
    "    if nz[0]<=pz[0]: nz = nz[1:]\n",
    "    if nz[-1]<=pz[-1]: pz = pz[:-1]\n",
    "    fmed = (nz-pz).mean()\n",
    "    pausas = pz[1:] - nz[:-1]\n",
    "    flags = np.ones(len(s), dtype=bool)\n",
    "    for i in np.nonzero(pausas>fmed*2)[0]:\n",
    "        ini = (nz[i]+2*int(fmed))*passo\n",
    "        fin = int(pz[i+1])*passo\n",
    "        flags[ini:fin] = False\n",
    "    s = s[flags]\n",
    "    return s"
   ]
  },
  {
   "cell_type": "code",
   "execution_count": 151,
   "metadata": {},
   "outputs": [],
   "source": [
    "def taxaLetras(s, fa):\n",
    "    E = perfEner(s, fa)\n",
    "    pz = np.logical_and(E[1:] > E.max()/100, E[:-1] < E.max()/100)\n",
    "    nz = np.logical_and(E[1:] < E.max()/100, E[:-1] > E.max()/100)\n",
    "    pz = np.nonzero(pz)[0]\n",
    "    nz = np.nonzero(nz)[0] + 1\n",
    "    if nz[0]<=pz[0]: nz = nz[1:]\n",
    "    if nz[-1]<=pz[-1]: pz = pz[:-1]\n",
    "    pfala = np.stack((pz,nz))\n",
    "    P2 = np.zeros((pfala.shape[1], 150))\n",
    "    for i in range(pfala.shape[1]):\n",
    "        na = np.round(pfala[0,i]*fa*0.03).astype(int)\n",
    "        N = np.round((pfala[1,i]-pfala[0,i])*fa*0.03).astype(int)\n",
    "        janela = int(np.round(N/3))\n",
    "        marcas = [0, int(np.round((N-janela)/2))-1, N-janela]\n",
    "        Ordem = int(np.round(0.003*fa))\n",
    "        CP = np.zeros((Ordem,3))\n",
    "        S = np.zeros((janela-Ordem-1,Ordem+1))\n",
    "        cont = 0\n",
    "        for k in marcas:\n",
    "            saux = s[na+k:na+k+janela]\n",
    "            for m in range(Ordem+1):\n",
    "                S[:,m] = saux[m:m-Ordem-1]\n",
    "            C = np.linalg.pinv(S[:,:-1]).dot(S[:,-1])\n",
    "            CP[:,cont] = C\n",
    "            cont += 1\n",
    "        P2[i,] = CP2vec(CP, fa).transpose()\n",
    "    yp = modelLet(P2, Wl1, bl1, Wl2, bl2)\n",
    "    return (yp>0.5).sum()/len(yp)"
   ]
  },
  {
   "cell_type": "code",
   "execution_count": 12,
   "metadata": {},
   "outputs": [],
   "source": [
    "class mlpFon(nn.Module):\n",
    "    def __init__(self, raw_dim, dim1, dim2):\n",
    "        super().__init__()\n",
    "        self.all_layers = torch.nn.Sequential(\n",
    "            # Encoder\n",
    "            nn.Flatten(start_dim=1),\n",
    "            nn.Linear(raw_dim, dim1),\n",
    "            nn.Tanh(),\n",
    "            nn.Linear(dim1, dim2),\n",
    "            nn.Softmax(dim=1)\n",
    "        )\n",
    "\n",
    "    def forward(self, x):\n",
    "        logits = self.all_layers(x)\n",
    "        return logits"
   ]
  },
  {
   "cell_type": "code",
   "execution_count": 13,
   "metadata": {},
   "outputs": [],
   "source": [
    "class mlpLetras(nn.Module):\n",
    "    def __init__(self, raw_dim, dim1, dim2):\n",
    "        super().__init__()\n",
    "        self.all_layers = torch.nn.Sequential(\n",
    "            # Encoder\n",
    "            nn.Flatten(start_dim=1),\n",
    "            nn.Linear(raw_dim, dim1),\n",
    "            nn.Tanh(),\n",
    "            nn.Linear(dim1, dim2),\n",
    "            nn.Sigmoid()\n",
    "        )\n",
    "\n",
    "    def forward(self, x):\n",
    "        logits = self.all_layers(x)\n",
    "        return logits"
   ]
  },
  {
   "cell_type": "code",
   "execution_count": 116,
   "metadata": {},
   "outputs": [
    {
     "data": {
      "text/plain": [
       "mlpFon(\n",
       "  (all_layers): Sequential(\n",
       "    (0): Flatten(start_dim=1, end_dim=-1)\n",
       "    (1): Linear(in_features=150, out_features=150, bias=True)\n",
       "    (2): Tanh()\n",
       "    (3): Linear(in_features=150, out_features=174, bias=True)\n",
       "    (4): Softmax(dim=1)\n",
       "  )\n",
       ")"
      ]
     },
     "execution_count": 116,
     "metadata": {},
     "output_type": "execute_result"
    }
   ],
   "source": [
    "raw_dim = 150\n",
    "dim1 = 150\n",
    "dim2 = 174\n",
    "modelFon = mlpFon(raw_dim, dim1, dim2).to(device)\n",
    "modelFon.load_state_dict(torch.load('modeloMSE.pht'))\n",
    "modelFon.eval()"
   ]
  },
  {
   "cell_type": "code",
   "execution_count": 114,
   "metadata": {},
   "outputs": [
    {
     "data": {
      "text/plain": [
       "mlpLetras(\n",
       "  (all_layers): Sequential(\n",
       "    (0): Flatten(start_dim=1, end_dim=-1)\n",
       "    (1): Linear(in_features=150, out_features=30, bias=True)\n",
       "    (2): Tanh()\n",
       "    (3): Linear(in_features=30, out_features=1, bias=True)\n",
       "    (4): Sigmoid()\n",
       "  )\n",
       ")"
      ]
     },
     "execution_count": 114,
     "metadata": {},
     "output_type": "execute_result"
    }
   ],
   "source": [
    "raw_dim = 150\n",
    "dim1 = 30\n",
    "dim2 = 1\n",
    "modelLet = mlpLetras(raw_dim, dim1, dim2).to(device)\n",
    "modelLet.load_state_dict(torch.load('modeloLETRAS2.pht'))\n",
    "modelLet.eval()"
   ]
  },
  {
   "cell_type": "code",
   "execution_count": null,
   "metadata": {},
   "outputs": [],
   "source": [
    "Wl1 = modelLet.all_layers[1].state_dict()['weight'].cpu().detach().numpy()\n",
    "bl1 = modelLet.all_layers[1].state_dict()['bias'].cpu().detach().numpy()\n",
    "Wl2 = modelLet.all_layers[3].state_dict()['weight'].cpu().detach().numpy()\n",
    "bl2 = modelLet.all_layers[3].state_dict()['bias'].cpu().detach().numpy()\n",
    "with open('paramLet.pkl', 'wb') as f:\n",
    "    pickle.dump([Wl1, bl1, Wl2, bl2], f)"
   ]
  },
  {
   "cell_type": "code",
   "execution_count": null,
   "metadata": {},
   "outputs": [],
   "source": [
    "Wf1 = modelFon.all_layers[1].state_dict()['weight'].cpu().detach().numpy()\n",
    "bf1 = modelFon.all_layers[1].state_dict()['bias'].cpu().detach().numpy()\n",
    "Wf2 = modelFon.all_layers[3].state_dict()['weight'].cpu().detach().numpy()\n",
    "bf2 = modelFon.all_layers[3].state_dict()['bias'].cpu().detach().numpy()\n",
    "with open('paramFon.pkl', 'wb') as f:\n",
    "    pickle.dump([Wf1, bf1, Wf2, bf2], f)"
   ]
  },
  {
   "cell_type": "code",
   "execution_count": null,
   "metadata": {},
   "outputs": [],
   "source": [
    "with open('paramLet.pkl', 'rb') as f:\n",
    "    Wl1, bl1, Wl2, bl2 = pickle.load(f)"
   ]
  },
  {
   "cell_type": "code",
   "execution_count": null,
   "metadata": {},
   "outputs": [],
   "source": [
    "with open('paramFon.pkl', 'rb') as f:\n",
    "    Wf1, bf1, Wf2, bf2 = pickle.load(f)"
   ]
  },
  {
   "cell_type": "code",
   "execution_count": 16,
   "metadata": {},
   "outputs": [],
   "source": [
    "path = 'C:\\\\Meu Drive\\\\dados\\\\'\n",
    "lista = ['BaseFonemas.csv',\n",
    "         'ConjuntoFonemas.csv',\n",
    "         'RotulosFonemas.csv',\n",
    "         'RotulosNumericosFonemas.csv']\n",
    "F0 = pd.read_csv(path+lista[1], sep='\\t', header=None)"
   ]
  },
  {
   "cell_type": "code",
   "execution_count": 17,
   "metadata": {},
   "outputs": [],
   "source": [
    "with open('files.pkl', 'rb') as f:\n",
    "    B, F = pickle.load(f)"
   ]
  },
  {
   "cell_type": "code",
   "execution_count": 18,
   "metadata": {},
   "outputs": [],
   "source": [
    "with open('vects.pkl', 'rb') as f:\n",
    "    vects, rotul = pickle.load(f)"
   ]
  },
  {
   "cell_type": "markdown",
   "metadata": {},
   "source": [
    "# Linha de produção"
   ]
  },
  {
   "cell_type": "code",
   "execution_count": 19,
   "metadata": {},
   "outputs": [
    {
     "name": "stdout",
     "output_type": "stream",
     "text": [
      "48000 55.14\n",
      "48000 60.0\n",
      "48000 59.7\n"
     ]
    }
   ],
   "source": [
    "path = 'C:\\\\Meu Drive\\\\Doutorado Unicamp\\\\Projeto\\\\github\\\\projeto-leitura\\\\Audios\\\\Fluente\\\\1 - Fluente.wav'\n",
    "fs, s1 = wavfile.read(path)\n",
    "print(fs, s1.shape[0]/fs)\n",
    "path = 'C:\\\\Meu Drive\\\\Doutorado Unicamp\\\\Projeto\\\\github\\\\projeto-leitura\\\\Audios\\\\Silabou\\\\1-Silabou.wav'\n",
    "fs, s2 = wavfile.read(path)\n",
    "print(fs, s2.shape[0]/fs)\n",
    "path = 'C:\\\\Meu Drive\\\\Doutorado Unicamp\\\\Projeto\\\\github\\\\projeto-leitura\\\\Audios\\\\Soletrou\\\\1 - Soletrou.wav'\n",
    "fs, s3 = wavfile.read(path)\n",
    "print(fs, s3.shape[0]/fs)\n",
    "\n",
    "fa = 16000\n",
    "s1 = signal.resample(s1, int(s1.shape[0]*fa/fs))\n",
    "s2 = signal.resample(s2, int(s2.shape[0]*fa/fs))\n",
    "s3 = signal.resample(s3, int(s3.shape[0]*fa/fs))"
   ]
  },
  {
   "cell_type": "code",
   "execution_count": 26,
   "metadata": {},
   "outputs": [],
   "source": [
    "path = 'C:\\\\Meu Drive\\\\dados\\\\audios rotulados\\\\'\n",
    "pastas = os.listdir(path)\n",
    "dados = []\n",
    "rotul = []\n",
    "fa = 16000\n",
    "for pasta in pastas:\n",
    "    files = os.listdir(path+pasta)\n",
    "    for file in files:\n",
    "        fs, s = wavfile.read(path+pasta+'\\\\'+file)\n",
    "        dados.append(signal.resample(s, int(s.shape[0]*fa/fs)))\n",
    "        rotul.append(file[:-4])"
   ]
  },
  {
   "cell_type": "code",
   "execution_count": 29,
   "metadata": {},
   "outputs": [
    {
     "name": "stderr",
     "output_type": "stream",
     "text": [
      "                                                 \r"
     ]
    }
   ],
   "source": [
    "letras = []\n",
    "for s in tqdm(dados):\n",
    "    letras.append(taxaLetras(s, fa))"
   ]
  },
  {
   "cell_type": "code",
   "execution_count": 31,
   "metadata": {},
   "outputs": [
    {
     "data": {
      "application/vnd.plotly.v1+json": {
       "config": {
        "plotlyServerURL": "https://plot.ly"
       },
       "data": [
        {
         "hovertemplate": "variable=0<br>index=%{x}<br>value=%{y}<extra></extra>",
         "legendgroup": "0",
         "marker": {
          "color": "#636efa",
          "symbol": "circle"
         },
         "mode": "markers",
         "name": "0",
         "orientation": "v",
         "showlegend": true,
         "type": "scatter",
         "x": [
          0,
          1,
          2,
          3,
          4,
          5,
          6,
          7,
          8,
          9,
          10,
          11,
          12,
          13,
          14,
          15,
          16,
          17,
          18,
          19,
          20,
          21,
          22,
          23,
          24,
          25,
          26,
          27,
          28,
          29,
          30,
          31,
          32,
          33,
          34,
          35,
          36,
          37,
          38,
          39,
          40,
          41,
          42,
          43,
          44,
          45,
          46,
          47,
          48,
          49,
          50,
          51,
          52,
          53,
          54,
          55,
          56,
          57,
          58,
          59,
          60,
          61,
          62,
          63,
          64,
          65,
          66,
          67,
          68,
          69,
          70,
          71,
          72,
          73,
          74,
          75,
          76,
          77,
          78,
          79,
          80,
          81,
          82,
          83,
          84,
          85,
          86,
          87,
          88,
          89,
          90,
          91,
          92,
          93,
          94,
          95,
          96,
          97,
          98,
          99,
          100,
          101,
          102,
          103,
          104,
          105,
          106,
          107,
          108,
          109,
          110,
          111
         ],
         "xaxis": "x",
         "y": [
          0.21250000596046448,
          0.4507042169570923,
          0.3291139304637909,
          0.42105263471603394,
          0.5223880410194397,
          0.350649356842041,
          0.7222222089767456,
          0.3658536672592163,
          0.6027397513389587,
          0.4000000059604645,
          0.6393442749977112,
          0.4166666567325592,
          0.453125,
          0.4555555582046509,
          0.4421052634716034,
          0.3870967626571655,
          0.4516128897666931,
          0.25925925374031067,
          0.3606557250022888,
          0.46666666865348816,
          0.4878048896789551,
          0.5614035129547119,
          0.45588234066963196,
          0.6101694703102112,
          0.22499999403953552,
          0.4054054021835327,
          0.5,
          0.3499999940395355,
          0.4838709533214569,
          0.5087719559669495,
          0.24137930572032928,
          0.4202898442745209,
          0.1944444477558136,
          0.2549019753932953,
          0.4126984179019928,
          0.4262295067310333,
          0.7164179086685181,
          0.3333333432674408,
          0.3866666555404663,
          0.26213592290878296,
          0.546875,
          0.0714285746216774,
          0.0793650820851326,
          0.028985507786273956,
          0.09859155118465424,
          0.328125,
          0.27906978130340576,
          0.3571428656578064,
          0.08474576473236084,
          0.16949152946472168,
          0.3255814015865326,
          0.3166666626930237,
          0.35087719559669495,
          0.37931033968925476,
          0.4909090995788574,
          0.5833333134651184,
          0.2950819730758667,
          0.1599999964237213,
          0.3333333432674408,
          0.41304346919059753,
          0.42553192377090454,
          0.20000000298023224,
          0.20000000298023224,
          0.14492753148078918,
          0.20370370149612427,
          0.23728813230991364,
          0.13333334028720856,
          0.10447761416435242,
          0.2876712381839752,
          0.21311475336551666,
          0.4000000059604645,
          0.46875,
          0.30000001192092896,
          0.2916666567325592,
          0.3492063581943512,
          0.375,
          0.4032258093357086,
          0.5686274766921997,
          0.20000000298023224,
          0.7058823704719543,
          0.5079365372657776,
          0.17073170840740204,
          0.14102564752101898,
          0.16249999403953552,
          0.32499998807907104,
          0.3499999940395355,
          0.2631579041481018,
          0.40625,
          0.02777777798473835,
          0.3417721390724182,
          0.27906978130340576,
          0.30158731341362,
          0.3461538553237915,
          0.1666666716337204,
          0.2666666805744171,
          0.4761904776096344,
          0.3285714387893677,
          0.25757575035095215,
          0.30000001192092896,
          0.2800000011920929,
          0.05882352963089943,
          0.20000000298023224,
          0.25,
          0.6153846383094788,
          0.1818181872367859,
          0.34246575832366943,
          0.2647058963775635,
          0.125,
          0.6582278609275818,
          0.380952388048172,
          0.33898305892944336,
          0.43283581733703613
         ],
         "yaxis": "y"
        }
       ],
       "layout": {
        "legend": {
         "title": {
          "text": "variable"
         },
         "tracegroupgap": 0
        },
        "margin": {
         "t": 60
        },
        "template": {
         "data": {
          "bar": [
           {
            "error_x": {
             "color": "#2a3f5f"
            },
            "error_y": {
             "color": "#2a3f5f"
            },
            "marker": {
             "line": {
              "color": "#E5ECF6",
              "width": 0.5
             },
             "pattern": {
              "fillmode": "overlay",
              "size": 10,
              "solidity": 0.2
             }
            },
            "type": "bar"
           }
          ],
          "barpolar": [
           {
            "marker": {
             "line": {
              "color": "#E5ECF6",
              "width": 0.5
             },
             "pattern": {
              "fillmode": "overlay",
              "size": 10,
              "solidity": 0.2
             }
            },
            "type": "barpolar"
           }
          ],
          "carpet": [
           {
            "aaxis": {
             "endlinecolor": "#2a3f5f",
             "gridcolor": "white",
             "linecolor": "white",
             "minorgridcolor": "white",
             "startlinecolor": "#2a3f5f"
            },
            "baxis": {
             "endlinecolor": "#2a3f5f",
             "gridcolor": "white",
             "linecolor": "white",
             "minorgridcolor": "white",
             "startlinecolor": "#2a3f5f"
            },
            "type": "carpet"
           }
          ],
          "choropleth": [
           {
            "colorbar": {
             "outlinewidth": 0,
             "ticks": ""
            },
            "type": "choropleth"
           }
          ],
          "contour": [
           {
            "colorbar": {
             "outlinewidth": 0,
             "ticks": ""
            },
            "colorscale": [
             [
              0,
              "#0d0887"
             ],
             [
              0.1111111111111111,
              "#46039f"
             ],
             [
              0.2222222222222222,
              "#7201a8"
             ],
             [
              0.3333333333333333,
              "#9c179e"
             ],
             [
              0.4444444444444444,
              "#bd3786"
             ],
             [
              0.5555555555555556,
              "#d8576b"
             ],
             [
              0.6666666666666666,
              "#ed7953"
             ],
             [
              0.7777777777777778,
              "#fb9f3a"
             ],
             [
              0.8888888888888888,
              "#fdca26"
             ],
             [
              1,
              "#f0f921"
             ]
            ],
            "type": "contour"
           }
          ],
          "contourcarpet": [
           {
            "colorbar": {
             "outlinewidth": 0,
             "ticks": ""
            },
            "type": "contourcarpet"
           }
          ],
          "heatmap": [
           {
            "colorbar": {
             "outlinewidth": 0,
             "ticks": ""
            },
            "colorscale": [
             [
              0,
              "#0d0887"
             ],
             [
              0.1111111111111111,
              "#46039f"
             ],
             [
              0.2222222222222222,
              "#7201a8"
             ],
             [
              0.3333333333333333,
              "#9c179e"
             ],
             [
              0.4444444444444444,
              "#bd3786"
             ],
             [
              0.5555555555555556,
              "#d8576b"
             ],
             [
              0.6666666666666666,
              "#ed7953"
             ],
             [
              0.7777777777777778,
              "#fb9f3a"
             ],
             [
              0.8888888888888888,
              "#fdca26"
             ],
             [
              1,
              "#f0f921"
             ]
            ],
            "type": "heatmap"
           }
          ],
          "heatmapgl": [
           {
            "colorbar": {
             "outlinewidth": 0,
             "ticks": ""
            },
            "colorscale": [
             [
              0,
              "#0d0887"
             ],
             [
              0.1111111111111111,
              "#46039f"
             ],
             [
              0.2222222222222222,
              "#7201a8"
             ],
             [
              0.3333333333333333,
              "#9c179e"
             ],
             [
              0.4444444444444444,
              "#bd3786"
             ],
             [
              0.5555555555555556,
              "#d8576b"
             ],
             [
              0.6666666666666666,
              "#ed7953"
             ],
             [
              0.7777777777777778,
              "#fb9f3a"
             ],
             [
              0.8888888888888888,
              "#fdca26"
             ],
             [
              1,
              "#f0f921"
             ]
            ],
            "type": "heatmapgl"
           }
          ],
          "histogram": [
           {
            "marker": {
             "pattern": {
              "fillmode": "overlay",
              "size": 10,
              "solidity": 0.2
             }
            },
            "type": "histogram"
           }
          ],
          "histogram2d": [
           {
            "colorbar": {
             "outlinewidth": 0,
             "ticks": ""
            },
            "colorscale": [
             [
              0,
              "#0d0887"
             ],
             [
              0.1111111111111111,
              "#46039f"
             ],
             [
              0.2222222222222222,
              "#7201a8"
             ],
             [
              0.3333333333333333,
              "#9c179e"
             ],
             [
              0.4444444444444444,
              "#bd3786"
             ],
             [
              0.5555555555555556,
              "#d8576b"
             ],
             [
              0.6666666666666666,
              "#ed7953"
             ],
             [
              0.7777777777777778,
              "#fb9f3a"
             ],
             [
              0.8888888888888888,
              "#fdca26"
             ],
             [
              1,
              "#f0f921"
             ]
            ],
            "type": "histogram2d"
           }
          ],
          "histogram2dcontour": [
           {
            "colorbar": {
             "outlinewidth": 0,
             "ticks": ""
            },
            "colorscale": [
             [
              0,
              "#0d0887"
             ],
             [
              0.1111111111111111,
              "#46039f"
             ],
             [
              0.2222222222222222,
              "#7201a8"
             ],
             [
              0.3333333333333333,
              "#9c179e"
             ],
             [
              0.4444444444444444,
              "#bd3786"
             ],
             [
              0.5555555555555556,
              "#d8576b"
             ],
             [
              0.6666666666666666,
              "#ed7953"
             ],
             [
              0.7777777777777778,
              "#fb9f3a"
             ],
             [
              0.8888888888888888,
              "#fdca26"
             ],
             [
              1,
              "#f0f921"
             ]
            ],
            "type": "histogram2dcontour"
           }
          ],
          "mesh3d": [
           {
            "colorbar": {
             "outlinewidth": 0,
             "ticks": ""
            },
            "type": "mesh3d"
           }
          ],
          "parcoords": [
           {
            "line": {
             "colorbar": {
              "outlinewidth": 0,
              "ticks": ""
             }
            },
            "type": "parcoords"
           }
          ],
          "pie": [
           {
            "automargin": true,
            "type": "pie"
           }
          ],
          "scatter": [
           {
            "fillpattern": {
             "fillmode": "overlay",
             "size": 10,
             "solidity": 0.2
            },
            "type": "scatter"
           }
          ],
          "scatter3d": [
           {
            "line": {
             "colorbar": {
              "outlinewidth": 0,
              "ticks": ""
             }
            },
            "marker": {
             "colorbar": {
              "outlinewidth": 0,
              "ticks": ""
             }
            },
            "type": "scatter3d"
           }
          ],
          "scattercarpet": [
           {
            "marker": {
             "colorbar": {
              "outlinewidth": 0,
              "ticks": ""
             }
            },
            "type": "scattercarpet"
           }
          ],
          "scattergeo": [
           {
            "marker": {
             "colorbar": {
              "outlinewidth": 0,
              "ticks": ""
             }
            },
            "type": "scattergeo"
           }
          ],
          "scattergl": [
           {
            "marker": {
             "colorbar": {
              "outlinewidth": 0,
              "ticks": ""
             }
            },
            "type": "scattergl"
           }
          ],
          "scattermapbox": [
           {
            "marker": {
             "colorbar": {
              "outlinewidth": 0,
              "ticks": ""
             }
            },
            "type": "scattermapbox"
           }
          ],
          "scatterpolar": [
           {
            "marker": {
             "colorbar": {
              "outlinewidth": 0,
              "ticks": ""
             }
            },
            "type": "scatterpolar"
           }
          ],
          "scatterpolargl": [
           {
            "marker": {
             "colorbar": {
              "outlinewidth": 0,
              "ticks": ""
             }
            },
            "type": "scatterpolargl"
           }
          ],
          "scatterternary": [
           {
            "marker": {
             "colorbar": {
              "outlinewidth": 0,
              "ticks": ""
             }
            },
            "type": "scatterternary"
           }
          ],
          "surface": [
           {
            "colorbar": {
             "outlinewidth": 0,
             "ticks": ""
            },
            "colorscale": [
             [
              0,
              "#0d0887"
             ],
             [
              0.1111111111111111,
              "#46039f"
             ],
             [
              0.2222222222222222,
              "#7201a8"
             ],
             [
              0.3333333333333333,
              "#9c179e"
             ],
             [
              0.4444444444444444,
              "#bd3786"
             ],
             [
              0.5555555555555556,
              "#d8576b"
             ],
             [
              0.6666666666666666,
              "#ed7953"
             ],
             [
              0.7777777777777778,
              "#fb9f3a"
             ],
             [
              0.8888888888888888,
              "#fdca26"
             ],
             [
              1,
              "#f0f921"
             ]
            ],
            "type": "surface"
           }
          ],
          "table": [
           {
            "cells": {
             "fill": {
              "color": "#EBF0F8"
             },
             "line": {
              "color": "white"
             }
            },
            "header": {
             "fill": {
              "color": "#C8D4E3"
             },
             "line": {
              "color": "white"
             }
            },
            "type": "table"
           }
          ]
         },
         "layout": {
          "annotationdefaults": {
           "arrowcolor": "#2a3f5f",
           "arrowhead": 0,
           "arrowwidth": 1
          },
          "autotypenumbers": "strict",
          "coloraxis": {
           "colorbar": {
            "outlinewidth": 0,
            "ticks": ""
           }
          },
          "colorscale": {
           "diverging": [
            [
             0,
             "#8e0152"
            ],
            [
             0.1,
             "#c51b7d"
            ],
            [
             0.2,
             "#de77ae"
            ],
            [
             0.3,
             "#f1b6da"
            ],
            [
             0.4,
             "#fde0ef"
            ],
            [
             0.5,
             "#f7f7f7"
            ],
            [
             0.6,
             "#e6f5d0"
            ],
            [
             0.7,
             "#b8e186"
            ],
            [
             0.8,
             "#7fbc41"
            ],
            [
             0.9,
             "#4d9221"
            ],
            [
             1,
             "#276419"
            ]
           ],
           "sequential": [
            [
             0,
             "#0d0887"
            ],
            [
             0.1111111111111111,
             "#46039f"
            ],
            [
             0.2222222222222222,
             "#7201a8"
            ],
            [
             0.3333333333333333,
             "#9c179e"
            ],
            [
             0.4444444444444444,
             "#bd3786"
            ],
            [
             0.5555555555555556,
             "#d8576b"
            ],
            [
             0.6666666666666666,
             "#ed7953"
            ],
            [
             0.7777777777777778,
             "#fb9f3a"
            ],
            [
             0.8888888888888888,
             "#fdca26"
            ],
            [
             1,
             "#f0f921"
            ]
           ],
           "sequentialminus": [
            [
             0,
             "#0d0887"
            ],
            [
             0.1111111111111111,
             "#46039f"
            ],
            [
             0.2222222222222222,
             "#7201a8"
            ],
            [
             0.3333333333333333,
             "#9c179e"
            ],
            [
             0.4444444444444444,
             "#bd3786"
            ],
            [
             0.5555555555555556,
             "#d8576b"
            ],
            [
             0.6666666666666666,
             "#ed7953"
            ],
            [
             0.7777777777777778,
             "#fb9f3a"
            ],
            [
             0.8888888888888888,
             "#fdca26"
            ],
            [
             1,
             "#f0f921"
            ]
           ]
          },
          "colorway": [
           "#636efa",
           "#EF553B",
           "#00cc96",
           "#ab63fa",
           "#FFA15A",
           "#19d3f3",
           "#FF6692",
           "#B6E880",
           "#FF97FF",
           "#FECB52"
          ],
          "font": {
           "color": "#2a3f5f"
          },
          "geo": {
           "bgcolor": "white",
           "lakecolor": "white",
           "landcolor": "#E5ECF6",
           "showlakes": true,
           "showland": true,
           "subunitcolor": "white"
          },
          "hoverlabel": {
           "align": "left"
          },
          "hovermode": "closest",
          "mapbox": {
           "style": "light"
          },
          "paper_bgcolor": "white",
          "plot_bgcolor": "#E5ECF6",
          "polar": {
           "angularaxis": {
            "gridcolor": "white",
            "linecolor": "white",
            "ticks": ""
           },
           "bgcolor": "#E5ECF6",
           "radialaxis": {
            "gridcolor": "white",
            "linecolor": "white",
            "ticks": ""
           }
          },
          "scene": {
           "xaxis": {
            "backgroundcolor": "#E5ECF6",
            "gridcolor": "white",
            "gridwidth": 2,
            "linecolor": "white",
            "showbackground": true,
            "ticks": "",
            "zerolinecolor": "white"
           },
           "yaxis": {
            "backgroundcolor": "#E5ECF6",
            "gridcolor": "white",
            "gridwidth": 2,
            "linecolor": "white",
            "showbackground": true,
            "ticks": "",
            "zerolinecolor": "white"
           },
           "zaxis": {
            "backgroundcolor": "#E5ECF6",
            "gridcolor": "white",
            "gridwidth": 2,
            "linecolor": "white",
            "showbackground": true,
            "ticks": "",
            "zerolinecolor": "white"
           }
          },
          "shapedefaults": {
           "line": {
            "color": "#2a3f5f"
           }
          },
          "ternary": {
           "aaxis": {
            "gridcolor": "white",
            "linecolor": "white",
            "ticks": ""
           },
           "baxis": {
            "gridcolor": "white",
            "linecolor": "white",
            "ticks": ""
           },
           "bgcolor": "#E5ECF6",
           "caxis": {
            "gridcolor": "white",
            "linecolor": "white",
            "ticks": ""
           }
          },
          "title": {
           "x": 0.05
          },
          "xaxis": {
           "automargin": true,
           "gridcolor": "white",
           "linecolor": "white",
           "ticks": "",
           "title": {
            "standoff": 15
           },
           "zerolinecolor": "white",
           "zerolinewidth": 2
          },
          "yaxis": {
           "automargin": true,
           "gridcolor": "white",
           "linecolor": "white",
           "ticks": "",
           "title": {
            "standoff": 15
           },
           "zerolinecolor": "white",
           "zerolinewidth": 2
          }
         }
        },
        "xaxis": {
         "anchor": "y",
         "domain": [
          0,
          1
         ],
         "ticktext": [
          "fluente 01",
          "fluente 02",
          "fluente silabando 01",
          "fluente silabando 02",
          "fluente silabando 03",
          "fluente silabando 04",
          "fluente silabando 05",
          "fluente silabando 06",
          "fluente silabando 07",
          "fluente silabando 08",
          "fluente silabando 09",
          "fluente silabando 10",
          "fluente silabando 11",
          "fluente silabando 12",
          "fluente silabando 13",
          "fluente silabando 14",
          "fluente silabando 15",
          "silabou 01",
          "silabou 02",
          "silabou 03",
          "silabou 04",
          "silabou 05",
          "silabou 06",
          "silabou 07",
          "silabou 08",
          "silabou 09",
          "silabou 10",
          "silabou 11",
          "silabou 12",
          "silabou 13",
          "silabou 14",
          "silabou 15",
          "silabou 16",
          "silabou 17",
          "silabou 18",
          "silabou 19",
          "silabou 20",
          "silabou 21",
          "silabou 22",
          "silabou 23",
          "fluente 01",
          "fluente 02",
          "fluente 03",
          "fluente 04",
          "fluente 05",
          "fluente 06",
          "fluente 07",
          "fluente 08",
          "fluente 09",
          "fluente 10",
          "fluente 11",
          "fluente 12",
          "fluente 13",
          "fluente 14",
          "fluente 15",
          "fluente 16",
          "fluente 17",
          "fluente 18",
          "fluente 19",
          "silabou 01",
          "silabou 02",
          "silabou 03",
          "silabou 04",
          "silabou 05",
          "silabou 06",
          "silabou 07",
          "silabou 08",
          "silabou 09",
          "silabou 10",
          "silabou 11",
          "silabou 12",
          "silabou 13",
          "soletrou 01",
          "soletrou 02",
          "soletrou 03",
          "soletrou 04",
          "soletrou 05",
          "soletrou 06",
          "soletrou 07",
          "soletrou 08",
          "fluente 01",
          "fluente 02",
          "fluente 03",
          "fluente 04",
          "fluente 05",
          "fluente 06",
          "fluente 07",
          "fluente 08",
          "fluente 09",
          "fluente 10",
          "fluente 11",
          "fluente 12",
          "fluente 13",
          "fluente 14",
          "fluente 15",
          "fluente 16",
          "fluente 17",
          "fluente 18",
          "fluente 19",
          "fluente 20",
          "fluente 21",
          "fluente 22",
          "fluente 23",
          "silabou 01",
          "silabou 02",
          "silabou 03",
          "silabou 04",
          "silabou 05",
          "soletrou 01",
          "soletrou 02",
          "soletrou 03",
          "soletrou 04"
         ],
         "tickvals": [
          0,
          1,
          2,
          3,
          4,
          5,
          6,
          7,
          8,
          9,
          10,
          11,
          12,
          13,
          14,
          15,
          16,
          17,
          18,
          19,
          20,
          21,
          22,
          23,
          24,
          25,
          26,
          27,
          28,
          29,
          30,
          31,
          32,
          33,
          34,
          35,
          36,
          37,
          38,
          39,
          40,
          41,
          42,
          43,
          44,
          45,
          46,
          47,
          48,
          49,
          50,
          51,
          52,
          53,
          54,
          55,
          56,
          57,
          58,
          59,
          60,
          61,
          62,
          63,
          64,
          65,
          66,
          67,
          68,
          69,
          70,
          71,
          72,
          73,
          74,
          75,
          76,
          77,
          78,
          79,
          80,
          81,
          82,
          83,
          84,
          85,
          86,
          87,
          88,
          89,
          90,
          91,
          92,
          93,
          94,
          95,
          96,
          97,
          98,
          99,
          100,
          101,
          102,
          103,
          104,
          105,
          106,
          107,
          108,
          109,
          110,
          111
         ],
         "title": {
          "text": "index"
         }
        },
        "yaxis": {
         "anchor": "x",
         "domain": [
          0,
          1
         ],
         "title": {
          "text": "value"
         }
        }
       }
      }
     },
     "metadata": {},
     "output_type": "display_data"
    }
   ],
   "source": [
    "fig = px.scatter(letras)\n",
    "fig.update_layout(\n",
    "    xaxis = dict(\n",
    "        tickvals = np.arange(112),\n",
    "        ticktext = rotul\n",
    "    )\n",
    ")\n",
    "fig.show()"
   ]
  },
  {
   "cell_type": "code",
   "execution_count": 34,
   "metadata": {},
   "outputs": [
    {
     "data": {
      "text/plain": [
       "array(['fluente 02', 'fluente silabando 02', 'fluente silabando 03',\n",
       "       'fluente silabando 05', 'fluente silabando 07',\n",
       "       'fluente silabando 09', 'fluente silabando 10',\n",
       "       'fluente silabando 11', 'fluente silabando 12',\n",
       "       'fluente silabando 13', 'fluente silabando 15', 'silabou 03',\n",
       "       'silabou 04', 'silabou 05', 'silabou 06', 'silabou 07',\n",
       "       'silabou 09', 'silabou 10', 'silabou 12', 'silabou 13',\n",
       "       'silabou 15', 'silabou 18', 'silabou 19', 'silabou 20',\n",
       "       'fluente 01', 'fluente 15', 'fluente 16', 'silabou 01',\n",
       "       'silabou 02', 'silabou 13', 'soletrou 05', 'soletrou 06',\n",
       "       'soletrou 08', 'fluente 01', 'fluente 08', 'fluente 16',\n",
       "       'silabou 01', 'soletrou 01', 'soletrou 04'], dtype='<U20')"
      ]
     },
     "execution_count": 34,
     "metadata": {},
     "output_type": "execute_result"
    }
   ],
   "source": [
    "np.array(rotul)[np.array(letras)>0.4]"
   ]
  },
  {
   "cell_type": "code",
   "execution_count": 38,
   "metadata": {},
   "outputs": [],
   "source": [
    "y = rotul[40:80]\n",
    "X = dados[40:80]"
   ]
  },
  {
   "cell_type": "code",
   "execution_count": 46,
   "metadata": {},
   "outputs": [
    {
     "name": "stdout",
     "output_type": "stream",
     "text": [
      "soletrou\n",
      "silabou\n",
      "fluente\n",
      "silabou\n",
      "fluente\n",
      "fluente\n",
      "fluente\n",
      "fluente\n",
      "silabou\n",
      "fluente\n",
      "fluente\n",
      "silabou\n",
      "silabou\n",
      "fluente\n",
      "fluente\n",
      "soletrou\n",
      "fluente\n",
      "fluente\n",
      "silabou\n",
      "silabou\n",
      "silabou\n",
      "silabou\n",
      "silabou\n",
      "silabou\n",
      "silabou\n",
      "silabou\n",
      "silabou\n",
      "silabou\n",
      "silabou\n",
      "silabou\n",
      "silabou\n",
      "silabou\n",
      "silabou\n",
      "fluente\n",
      "silabou\n",
      "silabou\n",
      "silabou\n",
      "soletrou\n",
      "silabou\n",
      "soletrou\n"
     ]
    }
   ],
   "source": [
    "for s in X:\n",
    "    s = filtrarSilencios(s, fa)\n",
    "    fonemas = wav2ener2fon2(s, fa)\n",
    "    _, T1 = lempelziv76(fonemas)\n",
    "    T2 = taxaLetras(s, fa)\n",
    "    if T1>0.65:\n",
    "        if T2>0.52:\n",
    "            yp = 'soletrou'\n",
    "        else:\n",
    "            yp = 'fluente'\n",
    "    else:\n",
    "        if T2>0.52:\n",
    "            yp = 'soletrou'\n",
    "        else:\n",
    "            yp = 'silabou'\n",
    "    print(yp)"
   ]
  },
  {
   "cell_type": "code",
   "execution_count": 48,
   "metadata": {},
   "outputs": [],
   "source": [
    "yp = ['soletrou',\n",
    "        'silabou',\n",
    "        'fluente',\n",
    "        'silabou',\n",
    "        'fluente',\n",
    "        'fluente',\n",
    "        'fluente',\n",
    "        'fluente',\n",
    "        'silabou',\n",
    "        'fluente',\n",
    "        'fluente',\n",
    "        'silabou',\n",
    "        'silabou',\n",
    "        'fluente',\n",
    "        'fluente',\n",
    "        'soletrou',\n",
    "        'fluente',\n",
    "        'fluente',\n",
    "        'silabou',\n",
    "        'silabou',\n",
    "        'silabou',\n",
    "        'silabou',\n",
    "        'silabou',\n",
    "        'silabou',\n",
    "        'silabou',\n",
    "        'silabou',\n",
    "        'silabou',\n",
    "        'silabou',\n",
    "        'silabou',\n",
    "        'silabou',\n",
    "        'silabou',\n",
    "        'silabou',\n",
    "        'silabou',\n",
    "        'fluente',\n",
    "        'silabou',\n",
    "        'silabou',\n",
    "        'silabou',\n",
    "        'soletrou',\n",
    "        'silabou',\n",
    "        'soletrou']"
   ]
  },
  {
   "cell_type": "code",
   "execution_count": 53,
   "metadata": {},
   "outputs": [
    {
     "data": {
      "text/plain": [
       "0"
      ]
     },
     "execution_count": 53,
     "metadata": {},
     "output_type": "execute_result"
    }
   ],
   "source": [
    "y[0].find('fluente')"
   ]
  },
  {
   "cell_type": "code",
   "execution_count": 55,
   "metadata": {},
   "outputs": [
    {
     "data": {
      "text/plain": [
       "0"
      ]
     },
     "execution_count": 55,
     "metadata": {},
     "output_type": "execute_result"
    }
   ],
   "source": [
    "y[20].find('silabou')"
   ]
  },
  {
   "cell_type": "code",
   "execution_count": null,
   "metadata": {},
   "outputs": [],
   "source": []
  },
  {
   "cell_type": "code",
   "execution_count": 56,
   "metadata": {},
   "outputs": [],
   "source": [
    "conf = np.zeros((3,3))\n",
    "for i, val in enumerate(y):\n",
    "    if y[i].find('soletrou')==0:\n",
    "        p = 0\n",
    "    elif y[i].find('silabou')==0:\n",
    "        p = 1\n",
    "    elif y[i].find('fluente')==0:\n",
    "        p = 2\n",
    "    if yp[i].find('soletrou')==0:\n",
    "        q = 0\n",
    "    elif yp[i].find('silabou')==0:\n",
    "        q = 1\n",
    "    elif yp[i].find('fluente')==0:\n",
    "        q = 2\n",
    "    conf[p,q] += 1"
   ]
  },
  {
   "cell_type": "code",
   "execution_count": 61,
   "metadata": {},
   "outputs": [
    {
     "name": "stdout",
     "output_type": "stream",
     "text": [
      "        Sol  Sil  Flu\n"
     ]
    },
    {
     "data": {
      "text/plain": [
       "array([[ 2.,  5.,  1.],\n",
       "       [ 0., 13.,  0.],\n",
       "       [ 2.,  6., 11.]])"
      ]
     },
     "execution_count": 61,
     "metadata": {},
     "output_type": "execute_result"
    }
   ],
   "source": [
    "print('        Sol  Sil  Flu')\n",
    "conf"
   ]
  },
  {
   "cell_type": "code",
   "execution_count": 20,
   "metadata": {},
   "outputs": [],
   "source": [
    "E = perfEner(s3, fa)\n",
    "pz = np.logical_and(E[1:] > E.max()/100, E[:-1] < E.max()/100)\n",
    "nz = np.logical_and(E[1:] < E.max()/100, E[:-1] > E.max()/100)\n",
    "pz = np.nonzero(pz)[0]\n",
    "nz = np.nonzero(nz)[0] + 1\n",
    "if nz[0]<=pz[0]: nz = nz[1:]\n",
    "if nz[-1]<=pz[-1]: pz = pz[:-1]\n",
    "pfala = np.stack((pz,nz))\n",
    "P2 = np.zeros((pfala.shape[1], 150))"
   ]
  },
  {
   "cell_type": "code",
   "execution_count": 21,
   "metadata": {},
   "outputs": [],
   "source": [
    "for i in range(pfala.shape[1]):\n",
    "    na = np.round(pfala[0,i]*fa*0.03).astype(int)\n",
    "    N = np.round((pfala[1,i]-pfala[0,i])*fa*0.03).astype(int)\n",
    "    janela = int(np.round(N/3))\n",
    "    marcas = [0, int(np.round((N-janela)/2))-1, N-janela]\n",
    "    Ordem = int(np.round(0.003*fa))\n",
    "    CP = np.zeros((Ordem,3))\n",
    "    S = np.zeros((janela-Ordem-1,Ordem+1))\n",
    "    cont = 0\n",
    "    for k in marcas:\n",
    "        saux = s3[na+k:na+k+janela]\n",
    "        for m in range(Ordem+1):\n",
    "            S[:,m] = saux[m:m-Ordem-1]\n",
    "        C = np.linalg.pinv(S[:,:-1]).dot(S[:,-1])\n",
    "        CP[:,cont] = C\n",
    "        cont += 1\n",
    "    P2[i,] = CP2vec(CP, fa).transpose()\n",
    "x1 = torch.tensor(P2, dtype=torch.float32, device=device).detach()\n",
    "yp = modelLet(x1)"
   ]
  },
  {
   "cell_type": "code",
   "execution_count": 115,
   "metadata": {},
   "outputs": [],
   "source": [
    "Wl1 = modelLet.all_layers[1].state_dict()['weight'].cpu().detach().numpy()\n",
    "bl1 = modelLet.all_layers[1].state_dict()['bias'].cpu().detach().numpy()\n",
    "Wl2 = modelLet.all_layers[3].state_dict()['weight'].cpu().detach().numpy()\n",
    "bl2 = modelLet.all_layers[3].state_dict()['bias'].cpu().detach().numpy()\n",
    "with open('paramLet.pkl', 'wb') as f:\n",
    "    pickle.dump([Wl1, bl1, Wl2, bl2], f)"
   ]
  },
  {
   "cell_type": "code",
   "execution_count": 118,
   "metadata": {},
   "outputs": [],
   "source": [
    "with open('paramLet.pkl', 'rb') as f:\n",
    "    Wl1, bl1, Wl2, bl2 = pickle.load(f)"
   ]
  },
  {
   "cell_type": "code",
   "execution_count": 117,
   "metadata": {},
   "outputs": [],
   "source": [
    "Wf1 = modelFon.all_layers[1].state_dict()['weight'].cpu().detach().numpy()\n",
    "bf1 = modelFon.all_layers[1].state_dict()['bias'].cpu().detach().numpy()\n",
    "Wf2 = modelFon.all_layers[3].state_dict()['weight'].cpu().detach().numpy()\n",
    "bf2 = modelFon.all_layers[3].state_dict()['bias'].cpu().detach().numpy()\n",
    "with open('paramFon.pkl', 'wb') as f:\n",
    "    pickle.dump([Wf1, bf1, Wf2, bf2], f)"
   ]
  },
  {
   "cell_type": "code",
   "execution_count": 119,
   "metadata": {},
   "outputs": [],
   "source": [
    "with open('paramFon.pkl', 'rb') as f:\n",
    "    Wf1, bf1, Wf2, bf2 = pickle.load(f)"
   ]
  },
  {
   "cell_type": "markdown",
   "metadata": {},
   "source": [
    "# Tutor virtual"
   ]
  },
  {
   "cell_type": "markdown",
   "metadata": {},
   "source": [
    "## Inicialização"
   ]
  },
  {
   "cell_type": "code",
   "execution_count": 190,
   "metadata": {},
   "outputs": [],
   "source": [
    "import numpy as np\n",
    "from scipy import signal\n",
    "from scipy.io import wavfile\n",
    "from scipy.signal import find_peaks, peak_widths\n",
    "from scipy.special import softmax\n",
    "import os\n",
    "import pickle\n",
    "import sys\n",
    "\n",
    "with open('paramLet.pkl', 'rb') as f:\n",
    "    Wl1, bl1, Wl2, bl2 = pickle.load(f)\n",
    "\n",
    "with open('paramFon.pkl', 'rb') as f:\n",
    "    Wf1, bf1, Wf2, bf2 = pickle.load(f)\n",
    "\n",
    "F0 = np.genfromtxt('ConjuntoFonemas.csv', delimiter='\\t', dtype=str)\n",
    "\n",
    "def sigmoid(z):\n",
    "    return 1/(1 + np.exp(-z))\n",
    "\n",
    "def modelFon(x, W1, b1, W2, b2):\n",
    "    N = x.shape[0]\n",
    "    v1 = np.tanh(W1.dot(x.transpose()) + np.outer(b1, np.ones(N)))\n",
    "    v2 = W2.dot(v1) + np.outer(b2, np.ones(N))\n",
    "    return softmax(v2, axis=0).transpose()\n",
    "\n",
    "def modelLet(x, W1, b1, W2, b2):\n",
    "    N = x.shape[0]\n",
    "    v1 = np.tanh(W1.dot(x.transpose()) + np.outer(b1, np.ones(N)))\n",
    "    return sigmoid(W2.dot(v1) + np.outer(b2, np.ones(N))).flatten()\n",
    "\n",
    "def LPC3janelas(s, fa):\n",
    "    N = s.shape[0]\n",
    "    if (N >= int(np.round(0.02*fa))) & (N <= int(np.round(0.2*fa))):\n",
    "        Janela = int(np.round(N/3))\n",
    "        marcas = [0, int(np.round((N-Janela)/2))-1, N-Janela]\n",
    "        Ordem = int(np.round(0.003*fa))\n",
    "        CP = np.zeros((Ordem,3))\n",
    "        S = np.zeros((Janela-Ordem-1,Ordem+1))\n",
    "        cont = 0\n",
    "        for k in marcas:\n",
    "            saux = s[k:k+Janela]\n",
    "            for m in range(Ordem+1):\n",
    "                S[:,m] = saux[m:m-Ordem-1]\n",
    "            C = np.linalg.pinv(S[:,:-1]).dot(S[:,-1])\n",
    "            CP[:,cont] = C\n",
    "            cont += 1\n",
    "        return CP\n",
    "    else:\n",
    "        return []\n",
    "    \n",
    "def CP2vec(CP, fa):\n",
    "    w = np.arange(5000/fa*np.pi, 50/fa*np.pi, -100/fa*np.pi)\n",
    "    P = np.zeros((len(w), CP.shape[1]))\n",
    "    for k in range(CP.shape[1]):\n",
    "        h = np.hstack((1, -np.flipud(CP[:,k])))\n",
    "        for i in range(len(w)):\n",
    "            P[i,k] = abs(1/np.sum(np.exp(-1j*w[i]*np.arange(len(h)))*h))\n",
    "    P = np.log10(P/P.max() + 0.01) + 2\n",
    "    P = P.flatten(order='F')/np.sqrt(np.sum(P.flatten()**2))\n",
    "    return P\n",
    "\n",
    "def lempelziv76(s):\n",
    "\tK = len(np.unique(s))\n",
    "\tN = len(s)\n",
    "\tL = 1\n",
    "\tdic = [s[0]]\n",
    "\tp = 1\n",
    "\tL = L+1\n",
    "\twhile p+L < N:\n",
    "\t\tpos = ''.join(s[:p+L-1]).find(''.join(s[p:p+L]))\n",
    "\t\tif pos == -1:\n",
    "\t\t\tdic.append(''.join(s[p:p+L]))\n",
    "\t\t\tp = p+L\n",
    "\t\t\tL = 1\n",
    "\t\telse:\n",
    "\t\t\tL = L+1\n",
    "\tdic.append(''.join(s[p:]))\n",
    "\tcLZ = len(dic)*(np.log2(len(dic))+1)/N\n",
    "\treturn dic, cLZ\n",
    "\n",
    "def perfEner(s, fa):\n",
    "    N = s.shape[0]\n",
    "    janela = np.round(0.1*fa).astype(int)\n",
    "    passo = np.round(0.03*fa).astype(int)\n",
    "    N2 = (N-janela)//passo\n",
    "    E = np.zeros(N2)\n",
    "    for i in range(N2):\n",
    "        saux = s[i*passo:i*passo+janela]\n",
    "        E[i] = (saux**2).sum()\n",
    "    return E\n",
    "\n",
    "def segmenta(E, pfala):\n",
    "    segs = np.empty((2,0), dtype=int)\n",
    "    qp = np.zeros(pfala.shape[1])\n",
    "    for i in range(pfala.shape[1]):\n",
    "        aux = E[pfala[0,i]:pfala[1,i]]\n",
    "        peaks, _ = find_peaks(aux, distance=4)\n",
    "        if peaks.size == 0: continue\n",
    "        proe = signal.peak_prominences(aux/max(aux), peaks)[0]\n",
    "        if np.any(proe/max(proe)<0.01): peaks = peaks[proe>0.01]\n",
    "        _, _, ini, fim = peak_widths(aux, peaks, rel_height=0.7)\n",
    "        ini = np.round(ini).astype(int)\n",
    "        fim = np.round(fim).astype(int)\n",
    "        qp[i] = len(peaks)\n",
    "        segs = np.hstack((segs, np.stack((ini,fim)) + pfala[0,i]))\n",
    "    return segs, qp\n",
    "\n",
    "def filtrarSilencios(s, fa):\n",
    "    E = perfEner(s, fa)\n",
    "    passo = np.round(0.03*fa).astype(int)\n",
    "    pz = np.logical_and(E[1:] > E.max()/100, E[:-1] < E.max()/100)\n",
    "    nz = np.logical_and(E[1:] < E.max()/100, E[:-1] > E.max()/100)\n",
    "    pz = np.nonzero(pz)[0]\n",
    "    nz = np.nonzero(nz)[0] + 1\n",
    "    if nz[0]<=pz[0]: nz = nz[1:]\n",
    "    if nz[-1]<=pz[-1]: pz = pz[:-1]\n",
    "    fmed = (nz-pz).mean()\n",
    "    pausas = pz[1:] - nz[:-1]\n",
    "    flags = np.ones(len(s), dtype=bool)\n",
    "    for i in np.nonzero(pausas>fmed*2)[0]:\n",
    "        ini = (nz[i]+2*int(fmed))*passo\n",
    "        fin = int(pz[i+1])*passo\n",
    "        flags[ini:fin] = False\n",
    "    s = s[flags]\n",
    "    return s\n",
    "\n",
    "def wav2ener2fon2(s, fa):\n",
    "    E = perfEner(s, fa)\n",
    "    pz = np.logical_and(E[1:] > E.max()/100, E[:-1] < E.max()/100)\n",
    "    nz = np.logical_and(E[1:] < E.max()/100, E[:-1] > E.max()/100)\n",
    "    pz = np.nonzero(pz)[0]\n",
    "    nz = np.nonzero(nz)[0] + 1\n",
    "    if nz[0]<=pz[0]: nz = nz[1:]\n",
    "    if nz[-1]<=pz[-1]: pz = pz[:-1]\n",
    "    pfala = np.stack((pz,nz))\n",
    "    segs, _ = segmenta(E, pfala)\n",
    "    P2 = np.zeros((segs.shape[1], 150))\n",
    "    for i in range(segs.shape[1]):\n",
    "        na = np.round(segs[0,i]*fa*0.03).astype(int)\n",
    "        N = np.round((segs[1,i]-segs[0,i])*fa*0.03).astype(int)\n",
    "        janela = int(np.round(N/3))\n",
    "        marcas = [0, int(np.round((N-janela)/2))-1, N-janela]\n",
    "        Ordem = int(np.round(0.003*fa))\n",
    "        CP = np.zeros((Ordem,3))\n",
    "        S = np.zeros((janela-Ordem-1,Ordem+1))\n",
    "        cont = 0\n",
    "        for k in marcas:\n",
    "            saux = s[na+k:na+k+janela]\n",
    "            for m in range(Ordem+1):\n",
    "                S[:,m] = saux[m:m-Ordem-1]\n",
    "            C = np.linalg.pinv(S[:,:-1]).dot(S[:,-1])\n",
    "            CP[:,cont] = C\n",
    "            cont += 1\n",
    "        P2[i,] = CP2vec(CP, fa).transpose()\n",
    "    yp = modelFon(P2, Wf1, bf1, Wf2, bf2)\n",
    "    inds = yp.argmax(axis=1)\n",
    "    aux = F0[inds].flatten()\n",
    "    fonemas = np.zeros(E.shape[0], dtype=np.str_)\n",
    "    fonemas[:] = '0'\n",
    "    for i in range(segs.shape[1]):\n",
    "        fonemas[segs[0,i]:segs[1,i]] = aux[i]\n",
    "    return fonemas\n",
    "\n",
    "def taxaLetras(s, fa):\n",
    "    E = perfEner(s, fa)\n",
    "    pz = np.logical_and(E[1:] > E.max()/100, E[:-1] < E.max()/100)\n",
    "    nz = np.logical_and(E[1:] < E.max()/100, E[:-1] > E.max()/100)\n",
    "    pz = np.nonzero(pz)[0]\n",
    "    nz = np.nonzero(nz)[0] + 1\n",
    "    if nz[0]<=pz[0]: nz = nz[1:]\n",
    "    if nz[-1]<=pz[-1]: pz = pz[:-1]\n",
    "    pfala = np.stack((pz,nz))\n",
    "    P2 = np.zeros((pfala.shape[1], 150))\n",
    "    for i in range(pfala.shape[1]):\n",
    "        na = np.round(pfala[0,i]*fa*0.03).astype(int)\n",
    "        N = np.round((pfala[1,i]-pfala[0,i])*fa*0.03).astype(int)\n",
    "        janela = int(np.round(N/3))\n",
    "        marcas = [0, int(np.round((N-janela)/2))-1, N-janela]\n",
    "        Ordem = int(np.round(0.003*fa))\n",
    "        CP = np.zeros((Ordem,3))\n",
    "        S = np.zeros((janela-Ordem-1,Ordem+1))\n",
    "        cont = 0\n",
    "        for k in marcas:\n",
    "            saux = s[na+k:na+k+janela]\n",
    "            for m in range(Ordem+1):\n",
    "                S[:,m] = saux[m:m-Ordem-1]\n",
    "            C = np.linalg.pinv(S[:,:-1]).dot(S[:,-1])\n",
    "            CP[:,cont] = C\n",
    "            cont += 1\n",
    "        P2[i,] = CP2vec(CP, fa).transpose()\n",
    "    yp = modelLet(P2, Wl1, bl1, Wl2, bl2)\n",
    "    return (yp>0.5).sum()/len(yp)"
   ]
  },
  {
   "cell_type": "markdown",
   "metadata": {},
   "source": [
    "## Testes"
   ]
  },
  {
   "cell_type": "code",
   "execution_count": 203,
   "metadata": {},
   "outputs": [
    {
     "name": "stdout",
     "output_type": "stream",
     "text": [
      "Analisando o arquivo fluente 01.wav\n",
      "Analisando o arquivo fluente 02.wav\n",
      "Analisando o arquivo fluente silabando 01.wav\n",
      "Analisando o arquivo fluente silabando 02.wav\n",
      "Analisando o arquivo fluente silabando 03.wav\n",
      "Analisando o arquivo fluente silabando 04.wav\n",
      "Analisando o arquivo fluente silabando 05.wav\n",
      "Analisando o arquivo fluente silabando 06.wav\n",
      "Analisando o arquivo fluente silabando 07.wav\n",
      "Analisando o arquivo fluente silabando 08.wav\n",
      "Analisando o arquivo fluente silabando 09.wav\n",
      "Analisando o arquivo fluente silabando 10.wav\n",
      "Analisando o arquivo fluente silabando 11.wav\n",
      "Analisando o arquivo fluente silabando 12.wav\n",
      "Analisando o arquivo fluente silabando 13.wav\n",
      "Analisando o arquivo fluente silabando 14.wav\n",
      "Analisando o arquivo fluente silabando 15.wav\n",
      "Analisando o arquivo silabou 01.wav\n",
      "Analisando o arquivo silabou 02.wav\n",
      "Analisando o arquivo silabou 03.wav\n",
      "Analisando o arquivo silabou 04.wav\n",
      "Analisando o arquivo silabou 05.wav\n",
      "Analisando o arquivo silabou 06.wav\n",
      "Analisando o arquivo silabou 07.wav\n",
      "Analisando o arquivo silabou 08.wav\n",
      "Analisando o arquivo silabou 09.wav\n",
      "Analisando o arquivo silabou 10.wav\n",
      "Analisando o arquivo silabou 11.wav\n",
      "Analisando o arquivo silabou 12.wav\n",
      "Analisando o arquivo silabou 13.wav\n",
      "Analisando o arquivo silabou 14.wav\n",
      "Analisando o arquivo silabou 15.wav\n",
      "Analisando o arquivo silabou 16.wav\n",
      "Analisando o arquivo silabou 17.wav\n",
      "Analisando o arquivo silabou 18.wav\n",
      "Analisando o arquivo silabou 19.wav\n",
      "Analisando o arquivo silabou 20.wav\n",
      "Analisando o arquivo silabou 21.wav\n",
      "Analisando o arquivo silabou 22.wav\n",
      "Analisando o arquivo silabou 23.wav\n"
     ]
    }
   ],
   "source": [
    "dataPath = 'C:\\\\Meu Drive\\\\dados\\\\audios rotulados\\\\indaiatuba 2ano texto'\n",
    "# dataPath = 'C:\\\\Meu Drive\\\\dados\\\\audios rotulados\\\\interna 1ano palavras'\n",
    "# dataPath = 'C:\\\\Meu Drive\\\\dados\\\\audios rotulados\\\\interna 1ano texto'\n",
    "files = os.listdir(dataPath)\n",
    "fa = 16000\n",
    "colunas = ['sol', 'sil', 'flu']\n",
    "df = pd.DataFrame(np.zeros((3,3)), columns=colunas, index=colunas)\n",
    "for arq in files:\n",
    "    if arq.find('.wav')>-1:\n",
    "        print('Analisando o arquivo '+arq)\n",
    "        y = colunas.index(arq[:3])\n",
    "        fs, s = wavfile.read(dataPath+'\\\\'+arq)\n",
    "        s = signal.resample(s, int(s.shape[0]*fa/fs))\n",
    "        fonemas = wav2ener2fon2(s, fa)\n",
    "        _, T1 = lempelziv76(fonemas)\n",
    "        T1 = T1.round(2)\n",
    "        T2 = taxaLetras(s, fa).round(2)\n",
    "        if T1>0.65:\n",
    "            if T2>0.52:\n",
    "                yp = 'sol'\n",
    "                yp = colunas.index(yp)\n",
    "            else:\n",
    "                yp = 'flu'\n",
    "                yp = colunas.index(yp)\n",
    "        else:\n",
    "            if T2>0.52:\n",
    "                yp = 'sol'\n",
    "                yp = colunas.index(yp)\n",
    "            else:\n",
    "                yp = 'sil'\n",
    "                yp = colunas.index(yp)\n",
    "        df.iloc[y,yp] += 1"
   ]
  },
  {
   "cell_type": "code",
   "execution_count": 207,
   "metadata": {},
   "outputs": [
    {
     "data": {
      "text/html": [
       "<div>\n",
       "<style scoped>\n",
       "    .dataframe tbody tr th:only-of-type {\n",
       "        vertical-align: middle;\n",
       "    }\n",
       "\n",
       "    .dataframe tbody tr th {\n",
       "        vertical-align: top;\n",
       "    }\n",
       "\n",
       "    .dataframe thead th {\n",
       "        text-align: right;\n",
       "    }\n",
       "</style>\n",
       "<table border=\"1\" class=\"dataframe\">\n",
       "  <thead>\n",
       "    <tr style=\"text-align: right;\">\n",
       "      <th></th>\n",
       "      <th>sol</th>\n",
       "      <th>sil</th>\n",
       "      <th>flu</th>\n",
       "    </tr>\n",
       "  </thead>\n",
       "  <tbody>\n",
       "    <tr>\n",
       "      <th>sol</th>\n",
       "      <td>0.0</td>\n",
       "      <td>0.0</td>\n",
       "      <td>0.0</td>\n",
       "    </tr>\n",
       "    <tr>\n",
       "      <th>sil</th>\n",
       "      <td>1.0</td>\n",
       "      <td>20.0</td>\n",
       "      <td>2.0</td>\n",
       "    </tr>\n",
       "    <tr>\n",
       "      <th>flu</th>\n",
       "      <td>0.0</td>\n",
       "      <td>0.0</td>\n",
       "      <td>17.0</td>\n",
       "    </tr>\n",
       "  </tbody>\n",
       "</table>\n",
       "</div>"
      ],
      "text/plain": [
       "     sol   sil   flu\n",
       "sol  0.0   0.0   0.0\n",
       "sil  1.0  20.0   2.0\n",
       "flu  0.0   0.0  17.0"
      ]
     },
     "execution_count": 207,
     "metadata": {},
     "output_type": "execute_result"
    }
   ],
   "source": [
    "indaiatuba = df\n",
    "indaiatuba"
   ]
  },
  {
   "cell_type": "code",
   "execution_count": 208,
   "metadata": {},
   "outputs": [
    {
     "name": "stdout",
     "output_type": "stream",
     "text": [
      "Analisando o arquivo fluente 01.wav\n",
      "Analisando o arquivo fluente 02.wav\n",
      "Analisando o arquivo fluente 03.wav\n",
      "Analisando o arquivo fluente 04.wav\n",
      "Analisando o arquivo fluente 05.wav\n",
      "Analisando o arquivo fluente 06.wav\n",
      "Analisando o arquivo fluente 07.wav\n",
      "Analisando o arquivo fluente 08.wav\n",
      "Analisando o arquivo fluente 09.wav\n",
      "Analisando o arquivo fluente 10.wav\n",
      "Analisando o arquivo fluente 11.wav\n",
      "Analisando o arquivo fluente 12.wav\n",
      "Analisando o arquivo fluente 13.wav\n",
      "Analisando o arquivo fluente 14.wav\n",
      "Analisando o arquivo fluente 15.wav\n",
      "Analisando o arquivo fluente 16.wav\n",
      "Analisando o arquivo fluente 17.wav\n",
      "Analisando o arquivo fluente 18.wav\n",
      "Analisando o arquivo fluente 19.wav\n",
      "Analisando o arquivo silabou 01.wav\n",
      "Analisando o arquivo silabou 02.wav\n",
      "Analisando o arquivo silabou 03.wav\n",
      "Analisando o arquivo silabou 04.wav\n",
      "Analisando o arquivo silabou 05.wav\n",
      "Analisando o arquivo silabou 06.wav\n",
      "Analisando o arquivo silabou 07.wav\n",
      "Analisando o arquivo silabou 08.wav\n",
      "Analisando o arquivo silabou 09.wav\n",
      "Analisando o arquivo silabou 10.wav\n",
      "Analisando o arquivo silabou 11.wav\n",
      "Analisando o arquivo silabou 12.wav\n",
      "Analisando o arquivo silabou 13.wav\n",
      "Analisando o arquivo soletrou 01.wav\n",
      "Analisando o arquivo soletrou 02.wav\n",
      "Analisando o arquivo soletrou 03.wav\n",
      "Analisando o arquivo soletrou 04.wav\n",
      "Analisando o arquivo soletrou 05.wav\n",
      "Analisando o arquivo soletrou 06.wav\n",
      "Analisando o arquivo soletrou 07.wav\n",
      "Analisando o arquivo soletrou 08.wav\n"
     ]
    },
    {
     "data": {
      "text/html": [
       "<div>\n",
       "<style scoped>\n",
       "    .dataframe tbody tr th:only-of-type {\n",
       "        vertical-align: middle;\n",
       "    }\n",
       "\n",
       "    .dataframe tbody tr th {\n",
       "        vertical-align: top;\n",
       "    }\n",
       "\n",
       "    .dataframe thead th {\n",
       "        text-align: right;\n",
       "    }\n",
       "</style>\n",
       "<table border=\"1\" class=\"dataframe\">\n",
       "  <thead>\n",
       "    <tr style=\"text-align: right;\">\n",
       "      <th></th>\n",
       "      <th>sol</th>\n",
       "      <th>sil</th>\n",
       "      <th>flu</th>\n",
       "    </tr>\n",
       "  </thead>\n",
       "  <tbody>\n",
       "    <tr>\n",
       "      <th>sol</th>\n",
       "      <td>7.0</td>\n",
       "      <td>1.0</td>\n",
       "      <td>0.0</td>\n",
       "    </tr>\n",
       "    <tr>\n",
       "      <th>sil</th>\n",
       "      <td>2.0</td>\n",
       "      <td>11.0</td>\n",
       "      <td>0.0</td>\n",
       "    </tr>\n",
       "    <tr>\n",
       "      <th>flu</th>\n",
       "      <td>1.0</td>\n",
       "      <td>7.0</td>\n",
       "      <td>11.0</td>\n",
       "    </tr>\n",
       "  </tbody>\n",
       "</table>\n",
       "</div>"
      ],
      "text/plain": [
       "     sol   sil   flu\n",
       "sol  7.0   1.0   0.0\n",
       "sil  2.0  11.0   0.0\n",
       "flu  1.0   7.0  11.0"
      ]
     },
     "execution_count": 208,
     "metadata": {},
     "output_type": "execute_result"
    }
   ],
   "source": [
    "# dataPath = 'C:\\\\Meu Drive\\\\dados\\\\audios rotulados\\\\indaiatuba 2ano texto'\n",
    "dataPath = 'C:\\\\Meu Drive\\\\dados\\\\audios rotulados\\\\interna 1ano palavras'\n",
    "# dataPath = 'C:\\\\Meu Drive\\\\dados\\\\audios rotulados\\\\interna 1ano texto'\n",
    "files = os.listdir(dataPath)\n",
    "fa = 16000\n",
    "colunas = ['sol', 'sil', 'flu']\n",
    "df = pd.DataFrame(np.zeros((3,3)), columns=colunas, index=colunas)\n",
    "for arq in files:\n",
    "    if arq.find('.wav')>-1:\n",
    "        print('Analisando o arquivo '+arq)\n",
    "        y = colunas.index(arq[:3])\n",
    "        fs, s = wavfile.read(dataPath+'\\\\'+arq)\n",
    "        s = signal.resample(s, int(s.shape[0]*fa/fs))\n",
    "        fonemas = wav2ener2fon2(s, fa)\n",
    "        _, T1 = lempelziv76(fonemas)\n",
    "        T1 = T1.round(2)\n",
    "        T2 = taxaLetras(s, fa).round(2)\n",
    "        if T1>0.65:\n",
    "            if T2>0.52:\n",
    "                yp = 'sol'\n",
    "                yp = colunas.index(yp)\n",
    "            else:\n",
    "                yp = 'flu'\n",
    "                yp = colunas.index(yp)\n",
    "        else:\n",
    "            if T2>0.52:\n",
    "                yp = 'sol'\n",
    "                yp = colunas.index(yp)\n",
    "            else:\n",
    "                yp = 'sil'\n",
    "                yp = colunas.index(yp)\n",
    "        df.iloc[y,yp] += 1\n",
    "df"
   ]
  },
  {
   "cell_type": "code",
   "execution_count": 209,
   "metadata": {},
   "outputs": [
    {
     "name": "stdout",
     "output_type": "stream",
     "text": [
      "Analisando o arquivo fluente 01.wav\n",
      "Analisando o arquivo fluente 02.wav\n",
      "Analisando o arquivo fluente 03.wav\n",
      "Analisando o arquivo fluente 04.wav\n",
      "Analisando o arquivo fluente 05.wav\n",
      "Analisando o arquivo fluente 06.wav\n",
      "Analisando o arquivo fluente 07.wav\n",
      "Analisando o arquivo fluente 08.wav\n",
      "Analisando o arquivo fluente 09.wav\n",
      "Analisando o arquivo fluente 10.wav\n",
      "Analisando o arquivo fluente 11.wav\n",
      "Analisando o arquivo fluente 12.wav\n",
      "Analisando o arquivo fluente 13.wav\n",
      "Analisando o arquivo fluente 14.wav\n",
      "Analisando o arquivo fluente 15.wav\n",
      "Analisando o arquivo fluente 16.wav\n",
      "Analisando o arquivo fluente 17.wav\n",
      "Analisando o arquivo fluente 18.wav\n",
      "Analisando o arquivo fluente 19.wav\n",
      "Analisando o arquivo fluente 20.wav\n",
      "Analisando o arquivo fluente 21.wav\n",
      "Analisando o arquivo fluente 22.wav\n",
      "Analisando o arquivo fluente 23.wav\n",
      "Analisando o arquivo silabou 01.wav\n",
      "Analisando o arquivo silabou 02.wav\n",
      "Analisando o arquivo silabou 03.wav\n",
      "Analisando o arquivo silabou 04.wav\n",
      "Analisando o arquivo silabou 05.wav\n",
      "Analisando o arquivo soletrou 01.wav\n",
      "Analisando o arquivo soletrou 02.wav\n",
      "Analisando o arquivo soletrou 03.wav\n",
      "Analisando o arquivo soletrou 04.wav\n"
     ]
    },
    {
     "data": {
      "text/html": [
       "<div>\n",
       "<style scoped>\n",
       "    .dataframe tbody tr th:only-of-type {\n",
       "        vertical-align: middle;\n",
       "    }\n",
       "\n",
       "    .dataframe tbody tr th {\n",
       "        vertical-align: top;\n",
       "    }\n",
       "\n",
       "    .dataframe thead th {\n",
       "        text-align: right;\n",
       "    }\n",
       "</style>\n",
       "<table border=\"1\" class=\"dataframe\">\n",
       "  <thead>\n",
       "    <tr style=\"text-align: right;\">\n",
       "      <th></th>\n",
       "      <th>sol</th>\n",
       "      <th>sil</th>\n",
       "      <th>flu</th>\n",
       "    </tr>\n",
       "  </thead>\n",
       "  <tbody>\n",
       "    <tr>\n",
       "      <th>sol</th>\n",
       "      <td>3.0</td>\n",
       "      <td>1.0</td>\n",
       "      <td>0.0</td>\n",
       "    </tr>\n",
       "    <tr>\n",
       "      <th>sil</th>\n",
       "      <td>1.0</td>\n",
       "      <td>4.0</td>\n",
       "      <td>0.0</td>\n",
       "    </tr>\n",
       "    <tr>\n",
       "      <th>flu</th>\n",
       "      <td>0.0</td>\n",
       "      <td>0.0</td>\n",
       "      <td>23.0</td>\n",
       "    </tr>\n",
       "  </tbody>\n",
       "</table>\n",
       "</div>"
      ],
      "text/plain": [
       "     sol  sil   flu\n",
       "sol  3.0  1.0   0.0\n",
       "sil  1.0  4.0   0.0\n",
       "flu  0.0  0.0  23.0"
      ]
     },
     "execution_count": 209,
     "metadata": {},
     "output_type": "execute_result"
    }
   ],
   "source": [
    "# dataPath = 'C:\\\\Meu Drive\\\\dados\\\\audios rotulados\\\\indaiatuba 2ano texto'\n",
    "# dataPath = 'C:\\\\Meu Drive\\\\dados\\\\audios rotulados\\\\interna 1ano palavras'\n",
    "dataPath = 'C:\\\\Meu Drive\\\\dados\\\\audios rotulados\\\\interna 1ano texto'\n",
    "files = os.listdir(dataPath)\n",
    "fa = 16000\n",
    "colunas = ['sol', 'sil', 'flu']\n",
    "df = pd.DataFrame(np.zeros((3,3)), columns=colunas, index=colunas)\n",
    "for arq in files:\n",
    "    if arq.find('.wav')>-1:\n",
    "        print('Analisando o arquivo '+arq)\n",
    "        y = colunas.index(arq[:3])\n",
    "        fs, s = wavfile.read(dataPath+'\\\\'+arq)\n",
    "        s = signal.resample(s, int(s.shape[0]*fa/fs))\n",
    "        fonemas = wav2ener2fon2(s, fa)\n",
    "        _, T1 = lempelziv76(fonemas)\n",
    "        T1 = T1.round(2)\n",
    "        T2 = taxaLetras(s, fa).round(2)\n",
    "        if T1>0.65:\n",
    "            if T2>0.52:\n",
    "                yp = 'sol'\n",
    "                yp = colunas.index(yp)\n",
    "            else:\n",
    "                yp = 'flu'\n",
    "                yp = colunas.index(yp)\n",
    "        else:\n",
    "            if T2>0.52:\n",
    "                yp = 'sol'\n",
    "                yp = colunas.index(yp)\n",
    "            else:\n",
    "                yp = 'sil'\n",
    "                yp = colunas.index(yp)\n",
    "        df.iloc[y,yp] += 1\n",
    "df"
   ]
  },
  {
   "cell_type": "code",
   "execution_count": null,
   "metadata": {},
   "outputs": [],
   "source": []
  }
 ],
 "metadata": {
  "kernelspec": {
   "display_name": "base",
   "language": "python",
   "name": "python3"
  },
  "language_info": {
   "codemirror_mode": {
    "name": "ipython",
    "version": 3
   },
   "file_extension": ".py",
   "mimetype": "text/x-python",
   "name": "python",
   "nbconvert_exporter": "python",
   "pygments_lexer": "ipython3",
   "version": "3.12.4"
  }
 },
 "nbformat": 4,
 "nbformat_minor": 2
}
